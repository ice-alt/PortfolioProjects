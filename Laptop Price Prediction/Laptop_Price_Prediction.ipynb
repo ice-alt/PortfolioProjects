{
 "cells": [
  {
   "cell_type": "code",
   "execution_count": 1189,
   "id": "34cd89a1",
   "metadata": {},
   "outputs": [],
   "source": [
    "import pandas as pd\n",
    "import numpy as np"
   ]
  },
  {
   "cell_type": "markdown",
   "id": "0588b1bd",
   "metadata": {},
   "source": [
    "### **Data Preparation**"
   ]
  },
  {
   "cell_type": "code",
   "execution_count": 1190,
   "id": "bcbd755d",
   "metadata": {},
   "outputs": [],
   "source": [
    "data = \"laptops.csv\""
   ]
  },
  {
   "cell_type": "code",
   "execution_count": 1191,
   "id": "080e1e2e",
   "metadata": {},
   "outputs": [],
   "source": [
    "#load dataset\n",
    "df = pd.read_csv(data)"
   ]
  },
  {
   "cell_type": "code",
   "execution_count": 1192,
   "id": "35cbbcc1",
   "metadata": {},
   "outputs": [
    {
     "data": {
      "text/html": [
       "<div>\n",
       "<style scoped>\n",
       "    .dataframe tbody tr th:only-of-type {\n",
       "        vertical-align: middle;\n",
       "    }\n",
       "\n",
       "    .dataframe tbody tr th {\n",
       "        vertical-align: top;\n",
       "    }\n",
       "\n",
       "    .dataframe thead th {\n",
       "        text-align: right;\n",
       "    }\n",
       "</style>\n",
       "<table border=\"1\" class=\"dataframe\">\n",
       "  <thead>\n",
       "    <tr style=\"text-align: right;\">\n",
       "      <th></th>\n",
       "      <th>Laptop</th>\n",
       "      <th>Status</th>\n",
       "      <th>Brand</th>\n",
       "      <th>Model</th>\n",
       "      <th>CPU</th>\n",
       "      <th>RAM</th>\n",
       "      <th>Storage</th>\n",
       "      <th>Storage type</th>\n",
       "      <th>GPU</th>\n",
       "      <th>Screen</th>\n",
       "      <th>Touch</th>\n",
       "      <th>Final Price</th>\n",
       "    </tr>\n",
       "  </thead>\n",
       "  <tbody>\n",
       "    <tr>\n",
       "      <th>0</th>\n",
       "      <td>ASUS ExpertBook B1 B1502CBA-EJ0436X Intel Core...</td>\n",
       "      <td>New</td>\n",
       "      <td>Asus</td>\n",
       "      <td>ExpertBook</td>\n",
       "      <td>Intel Core i5</td>\n",
       "      <td>8</td>\n",
       "      <td>512</td>\n",
       "      <td>SSD</td>\n",
       "      <td>NaN</td>\n",
       "      <td>15.6</td>\n",
       "      <td>No</td>\n",
       "      <td>1009.00</td>\n",
       "    </tr>\n",
       "    <tr>\n",
       "      <th>1</th>\n",
       "      <td>Alurin Go Start Intel Celeron N4020/8GB/256GB ...</td>\n",
       "      <td>New</td>\n",
       "      <td>Alurin</td>\n",
       "      <td>Go</td>\n",
       "      <td>Intel Celeron</td>\n",
       "      <td>8</td>\n",
       "      <td>256</td>\n",
       "      <td>SSD</td>\n",
       "      <td>NaN</td>\n",
       "      <td>15.6</td>\n",
       "      <td>No</td>\n",
       "      <td>299.00</td>\n",
       "    </tr>\n",
       "    <tr>\n",
       "      <th>2</th>\n",
       "      <td>ASUS ExpertBook B1 B1502CBA-EJ0424X Intel Core...</td>\n",
       "      <td>New</td>\n",
       "      <td>Asus</td>\n",
       "      <td>ExpertBook</td>\n",
       "      <td>Intel Core i3</td>\n",
       "      <td>8</td>\n",
       "      <td>256</td>\n",
       "      <td>SSD</td>\n",
       "      <td>NaN</td>\n",
       "      <td>15.6</td>\n",
       "      <td>No</td>\n",
       "      <td>789.00</td>\n",
       "    </tr>\n",
       "    <tr>\n",
       "      <th>3</th>\n",
       "      <td>MSI Katana GF66 12UC-082XES Intel Core i7-1270...</td>\n",
       "      <td>New</td>\n",
       "      <td>MSI</td>\n",
       "      <td>Katana</td>\n",
       "      <td>Intel Core i7</td>\n",
       "      <td>16</td>\n",
       "      <td>1000</td>\n",
       "      <td>SSD</td>\n",
       "      <td>RTX 3050</td>\n",
       "      <td>15.6</td>\n",
       "      <td>No</td>\n",
       "      <td>1199.00</td>\n",
       "    </tr>\n",
       "    <tr>\n",
       "      <th>4</th>\n",
       "      <td>HP 15S-FQ5085NS Intel Core i5-1235U/16GB/512GB...</td>\n",
       "      <td>New</td>\n",
       "      <td>HP</td>\n",
       "      <td>15S</td>\n",
       "      <td>Intel Core i5</td>\n",
       "      <td>16</td>\n",
       "      <td>512</td>\n",
       "      <td>SSD</td>\n",
       "      <td>NaN</td>\n",
       "      <td>15.6</td>\n",
       "      <td>No</td>\n",
       "      <td>669.01</td>\n",
       "    </tr>\n",
       "  </tbody>\n",
       "</table>\n",
       "</div>"
      ],
      "text/plain": [
       "                                              Laptop Status   Brand  \\\n",
       "0  ASUS ExpertBook B1 B1502CBA-EJ0436X Intel Core...    New    Asus   \n",
       "1  Alurin Go Start Intel Celeron N4020/8GB/256GB ...    New  Alurin   \n",
       "2  ASUS ExpertBook B1 B1502CBA-EJ0424X Intel Core...    New    Asus   \n",
       "3  MSI Katana GF66 12UC-082XES Intel Core i7-1270...    New     MSI   \n",
       "4  HP 15S-FQ5085NS Intel Core i5-1235U/16GB/512GB...    New      HP   \n",
       "\n",
       "        Model            CPU  RAM  Storage Storage type       GPU  Screen  \\\n",
       "0  ExpertBook  Intel Core i5    8      512          SSD       NaN    15.6   \n",
       "1          Go  Intel Celeron    8      256          SSD       NaN    15.6   \n",
       "2  ExpertBook  Intel Core i3    8      256          SSD       NaN    15.6   \n",
       "3      Katana  Intel Core i7   16     1000          SSD  RTX 3050    15.6   \n",
       "4         15S  Intel Core i5   16      512          SSD       NaN    15.6   \n",
       "\n",
       "  Touch  Final Price  \n",
       "0    No      1009.00  \n",
       "1    No       299.00  \n",
       "2    No       789.00  \n",
       "3    No      1199.00  \n",
       "4    No       669.01  "
      ]
     },
     "execution_count": 1192,
     "metadata": {},
     "output_type": "execute_result"
    }
   ],
   "source": [
    "#displays first five rows\n",
    "df.head()"
   ]
  },
  {
   "cell_type": "code",
   "execution_count": 1193,
   "id": "393073cd",
   "metadata": {},
   "outputs": [],
   "source": [
    "#normalize column names\n",
    "df.columns = df.columns.str.lower().str.replace(' ', '_')"
   ]
  },
  {
   "cell_type": "code",
   "execution_count": 1194,
   "id": "73b29c7e",
   "metadata": {},
   "outputs": [
    {
     "data": {
      "text/html": [
       "<div>\n",
       "<style scoped>\n",
       "    .dataframe tbody tr th:only-of-type {\n",
       "        vertical-align: middle;\n",
       "    }\n",
       "\n",
       "    .dataframe tbody tr th {\n",
       "        vertical-align: top;\n",
       "    }\n",
       "\n",
       "    .dataframe thead th {\n",
       "        text-align: right;\n",
       "    }\n",
       "</style>\n",
       "<table border=\"1\" class=\"dataframe\">\n",
       "  <thead>\n",
       "    <tr style=\"text-align: right;\">\n",
       "      <th></th>\n",
       "      <th>laptop</th>\n",
       "      <th>status</th>\n",
       "      <th>brand</th>\n",
       "      <th>model</th>\n",
       "      <th>cpu</th>\n",
       "      <th>ram</th>\n",
       "      <th>storage</th>\n",
       "      <th>storage_type</th>\n",
       "      <th>gpu</th>\n",
       "      <th>screen</th>\n",
       "      <th>touch</th>\n",
       "      <th>final_price</th>\n",
       "    </tr>\n",
       "  </thead>\n",
       "  <tbody>\n",
       "    <tr>\n",
       "      <th>0</th>\n",
       "      <td>ASUS ExpertBook B1 B1502CBA-EJ0436X Intel Core...</td>\n",
       "      <td>New</td>\n",
       "      <td>Asus</td>\n",
       "      <td>ExpertBook</td>\n",
       "      <td>Intel Core i5</td>\n",
       "      <td>8</td>\n",
       "      <td>512</td>\n",
       "      <td>SSD</td>\n",
       "      <td>NaN</td>\n",
       "      <td>15.6</td>\n",
       "      <td>No</td>\n",
       "      <td>1009.00</td>\n",
       "    </tr>\n",
       "    <tr>\n",
       "      <th>1</th>\n",
       "      <td>Alurin Go Start Intel Celeron N4020/8GB/256GB ...</td>\n",
       "      <td>New</td>\n",
       "      <td>Alurin</td>\n",
       "      <td>Go</td>\n",
       "      <td>Intel Celeron</td>\n",
       "      <td>8</td>\n",
       "      <td>256</td>\n",
       "      <td>SSD</td>\n",
       "      <td>NaN</td>\n",
       "      <td>15.6</td>\n",
       "      <td>No</td>\n",
       "      <td>299.00</td>\n",
       "    </tr>\n",
       "    <tr>\n",
       "      <th>2</th>\n",
       "      <td>ASUS ExpertBook B1 B1502CBA-EJ0424X Intel Core...</td>\n",
       "      <td>New</td>\n",
       "      <td>Asus</td>\n",
       "      <td>ExpertBook</td>\n",
       "      <td>Intel Core i3</td>\n",
       "      <td>8</td>\n",
       "      <td>256</td>\n",
       "      <td>SSD</td>\n",
       "      <td>NaN</td>\n",
       "      <td>15.6</td>\n",
       "      <td>No</td>\n",
       "      <td>789.00</td>\n",
       "    </tr>\n",
       "    <tr>\n",
       "      <th>3</th>\n",
       "      <td>MSI Katana GF66 12UC-082XES Intel Core i7-1270...</td>\n",
       "      <td>New</td>\n",
       "      <td>MSI</td>\n",
       "      <td>Katana</td>\n",
       "      <td>Intel Core i7</td>\n",
       "      <td>16</td>\n",
       "      <td>1000</td>\n",
       "      <td>SSD</td>\n",
       "      <td>RTX 3050</td>\n",
       "      <td>15.6</td>\n",
       "      <td>No</td>\n",
       "      <td>1199.00</td>\n",
       "    </tr>\n",
       "    <tr>\n",
       "      <th>4</th>\n",
       "      <td>HP 15S-FQ5085NS Intel Core i5-1235U/16GB/512GB...</td>\n",
       "      <td>New</td>\n",
       "      <td>HP</td>\n",
       "      <td>15S</td>\n",
       "      <td>Intel Core i5</td>\n",
       "      <td>16</td>\n",
       "      <td>512</td>\n",
       "      <td>SSD</td>\n",
       "      <td>NaN</td>\n",
       "      <td>15.6</td>\n",
       "      <td>No</td>\n",
       "      <td>669.01</td>\n",
       "    </tr>\n",
       "  </tbody>\n",
       "</table>\n",
       "</div>"
      ],
      "text/plain": [
       "                                              laptop status   brand  \\\n",
       "0  ASUS ExpertBook B1 B1502CBA-EJ0436X Intel Core...    New    Asus   \n",
       "1  Alurin Go Start Intel Celeron N4020/8GB/256GB ...    New  Alurin   \n",
       "2  ASUS ExpertBook B1 B1502CBA-EJ0424X Intel Core...    New    Asus   \n",
       "3  MSI Katana GF66 12UC-082XES Intel Core i7-1270...    New     MSI   \n",
       "4  HP 15S-FQ5085NS Intel Core i5-1235U/16GB/512GB...    New      HP   \n",
       "\n",
       "        model            cpu  ram  storage storage_type       gpu  screen  \\\n",
       "0  ExpertBook  Intel Core i5    8      512          SSD       NaN    15.6   \n",
       "1          Go  Intel Celeron    8      256          SSD       NaN    15.6   \n",
       "2  ExpertBook  Intel Core i3    8      256          SSD       NaN    15.6   \n",
       "3      Katana  Intel Core i7   16     1000          SSD  RTX 3050    15.6   \n",
       "4         15S  Intel Core i5   16      512          SSD       NaN    15.6   \n",
       "\n",
       "  touch  final_price  \n",
       "0    No      1009.00  \n",
       "1    No       299.00  \n",
       "2    No       789.00  \n",
       "3    No      1199.00  \n",
       "4    No       669.01  "
      ]
     },
     "execution_count": 1194,
     "metadata": {},
     "output_type": "execute_result"
    }
   ],
   "source": [
    "df.head()"
   ]
  },
  {
   "cell_type": "code",
   "execution_count": 1195,
   "id": "6f28c61c",
   "metadata": {},
   "outputs": [
    {
     "data": {
      "text/html": [
       "<div>\n",
       "<style scoped>\n",
       "    .dataframe tbody tr th:only-of-type {\n",
       "        vertical-align: middle;\n",
       "    }\n",
       "\n",
       "    .dataframe tbody tr th {\n",
       "        vertical-align: top;\n",
       "    }\n",
       "\n",
       "    .dataframe thead th {\n",
       "        text-align: right;\n",
       "    }\n",
       "</style>\n",
       "<table border=\"1\" class=\"dataframe\">\n",
       "  <thead>\n",
       "    <tr style=\"text-align: right;\">\n",
       "      <th></th>\n",
       "      <th>ram</th>\n",
       "      <th>storage</th>\n",
       "      <th>screen</th>\n",
       "      <th>final_price</th>\n",
       "    </tr>\n",
       "  </thead>\n",
       "  <tbody>\n",
       "    <tr>\n",
       "      <th>0</th>\n",
       "      <td>8</td>\n",
       "      <td>512</td>\n",
       "      <td>15.6</td>\n",
       "      <td>1009.00</td>\n",
       "    </tr>\n",
       "    <tr>\n",
       "      <th>1</th>\n",
       "      <td>8</td>\n",
       "      <td>256</td>\n",
       "      <td>15.6</td>\n",
       "      <td>299.00</td>\n",
       "    </tr>\n",
       "    <tr>\n",
       "      <th>2</th>\n",
       "      <td>8</td>\n",
       "      <td>256</td>\n",
       "      <td>15.6</td>\n",
       "      <td>789.00</td>\n",
       "    </tr>\n",
       "    <tr>\n",
       "      <th>3</th>\n",
       "      <td>16</td>\n",
       "      <td>1000</td>\n",
       "      <td>15.6</td>\n",
       "      <td>1199.00</td>\n",
       "    </tr>\n",
       "    <tr>\n",
       "      <th>4</th>\n",
       "      <td>16</td>\n",
       "      <td>512</td>\n",
       "      <td>15.6</td>\n",
       "      <td>669.01</td>\n",
       "    </tr>\n",
       "  </tbody>\n",
       "</table>\n",
       "</div>"
      ],
      "text/plain": [
       "   ram  storage  screen  final_price\n",
       "0    8      512    15.6      1009.00\n",
       "1    8      256    15.6       299.00\n",
       "2    8      256    15.6       789.00\n",
       "3   16     1000    15.6      1199.00\n",
       "4   16      512    15.6       669.01"
      ]
     },
     "execution_count": 1195,
     "metadata": {},
     "output_type": "execute_result"
    }
   ],
   "source": [
    "#subset of dataframe with columns, ram, storage, screen & final_price\n",
    "df_sub = df[['ram', 'storage', 'screen', 'final_price']]\n",
    "df_sub.head()"
   ]
  },
  {
   "cell_type": "markdown",
   "id": "83d05b55",
   "metadata": {},
   "source": [
    "### **Exploratory Data Analysis**"
   ]
  },
  {
   "cell_type": "code",
   "execution_count": 1196,
   "id": "a20516d3",
   "metadata": {},
   "outputs": [],
   "source": [
    "import matplotlib.pyplot as plt\n",
    "import seaborn as sns\n",
    "\n",
    "%matplotlib inline"
   ]
  },
  {
   "cell_type": "code",
   "execution_count": 1197,
   "id": "0bdbd45e",
   "metadata": {},
   "outputs": [
    {
     "data": {
      "text/plain": [
       "<Axes: xlabel='final_price', ylabel='Count'>"
      ]
     },
     "execution_count": 1197,
     "metadata": {},
     "output_type": "execute_result"
    },
    {
     "data": {
      "image/png": "[encoded data removed]",
      "text/plain": [
       "<Figure size 640x480 with 1 Axes>"
      ]
     },
     "metadata": {},
     "output_type": "display_data"
    }
   ],
   "source": [
    "#number of laptops and their prices\n",
    "sns.histplot(df_sub.final_price, bins=50)"
   ]
  },
  {
   "cell_type": "markdown",
   "id": "1e049660",
   "metadata": {},
   "source": [
    "###### This graph has a \"long tail\" because a large number of occurrences appear in the tail (in this case, far-right end) of the distribution "
   ]
  },
  {
   "cell_type": "code",
   "execution_count": 1198,
   "id": "315ed63d",
   "metadata": {},
   "outputs": [
    {
     "data": {
      "text/plain": [
       "0       6.917706\n",
       "1       5.703782\n",
       "2       6.672033\n",
       "3       7.090077\n",
       "4       6.507293\n",
       "          ...   \n",
       "2155    7.901374\n",
       "2156    7.972807\n",
       "2157    8.131822\n",
       "2158    7.550130\n",
       "2159    7.438966\n",
       "Name: final_price, Length: 2160, dtype: float64"
      ]
     },
     "execution_count": 1198,
     "metadata": {},
     "output_type": "execute_result"
    }
   ],
   "source": [
    "#To remove the long tail distribution, we use logarithm\n",
    "price_logs = np.log1p(df_sub.final_price)\n",
    "price_logs"
   ]
  },
  {
   "cell_type": "code",
   "execution_count": 1199,
   "id": "12481720",
   "metadata": {},
   "outputs": [
    {
     "data": {
      "text/plain": [
       "<Axes: xlabel='final_price', ylabel='Count'>"
      ]
     },
     "execution_count": 1199,
     "metadata": {},
     "output_type": "execute_result"
    },
    {
     "data": {
      "image/png": "[encoded data removed]",
      "text/plain": [
       "<Figure size 640x480 with 1 Axes>"
      ]
     },
     "metadata": {},
     "output_type": "display_data"
    }
   ],
   "source": [
    "#number of laptops and their prices - but with the logarithmic prices\n",
    "sns.histplot(price_logs, bins=50)"
   ]
  },
  {
   "cell_type": "markdown",
   "id": "048b42e6",
   "metadata": {},
   "source": [
    "###### As you can see, it looks more like a normal distribution"
   ]
  },
  {
   "cell_type": "code",
   "execution_count": 1200,
   "id": "86a058f9",
   "metadata": {},
   "outputs": [
    {
     "data": {
      "text/plain": [
       "ram            0\n",
       "storage        0\n",
       "screen         4\n",
       "final_price    0\n",
       "dtype: int64"
      ]
     },
     "execution_count": 1200,
     "metadata": {},
     "output_type": "execute_result"
    }
   ],
   "source": [
    "#number of missing values per column\n",
    "df_sub.isnull().sum()"
   ]
  },
  {
   "cell_type": "code",
   "execution_count": 1201,
   "id": "19f6994c",
   "metadata": {},
   "outputs": [
    {
     "data": {
      "text/plain": [
       "np.float64(16.0)"
      ]
     },
     "execution_count": 1201,
     "metadata": {},
     "output_type": "execute_result"
    }
   ],
   "source": [
    "#median of ram column\n",
    "df_sub['ram'].median()"
   ]
  },
  {
   "cell_type": "markdown",
   "id": "7858b7d1",
   "metadata": {},
   "source": [
    "### **Prepare and Split the Dataset**"
   ]
  },
  {
   "cell_type": "code",
   "execution_count": 1202,
   "id": "cbfd20bc",
   "metadata": {},
   "outputs": [
    {
     "data": {
      "text/plain": [
       "2160"
      ]
     },
     "execution_count": 1202,
     "metadata": {},
     "output_type": "execute_result"
    }
   ],
   "source": [
    "#length of dataframe\n",
    "n = len(df_sub)\n",
    "n"
   ]
  },
  {
   "cell_type": "code",
   "execution_count": 1203,
   "id": "885e7b3c",
   "metadata": {},
   "outputs": [
    {
     "data": {
      "text/plain": [
       "432"
      ]
     },
     "execution_count": 1203,
     "metadata": {},
     "output_type": "execute_result"
    }
   ],
   "source": [
    "#20% of the dataframe for validation\n",
    "n_val = int(n * 0.2)\n",
    "n_val"
   ]
  },
  {
   "cell_type": "code",
   "execution_count": 1204,
   "id": "b49bebf4",
   "metadata": {},
   "outputs": [
    {
     "data": {
      "text/plain": [
       "432"
      ]
     },
     "execution_count": 1204,
     "metadata": {},
     "output_type": "execute_result"
    }
   ],
   "source": [
    "#20% of the dataframe for testing\n",
    "n_test = int(n * 0.2)\n",
    "n_test"
   ]
  },
  {
   "cell_type": "code",
   "execution_count": 1205,
   "id": "0262d13c",
   "metadata": {},
   "outputs": [
    {
     "data": {
      "text/plain": [
       "1296"
      ]
     },
     "execution_count": 1205,
     "metadata": {},
     "output_type": "execute_result"
    }
   ],
   "source": [
    "#60% of the dataframe for training\n",
    "n_train = n - n_test - n_val\n",
    "n_train"
   ]
  },
  {
   "cell_type": "code",
   "execution_count": 1206,
   "id": "c819616d",
   "metadata": {},
   "outputs": [
    {
     "data": {
      "text/plain": [
       "(2160, 2160)"
      ]
     },
     "execution_count": 1206,
     "metadata": {},
     "output_type": "execute_result"
    }
   ],
   "source": [
    "#make sure they all add up to the total length of the dataframe\n",
    "n, n_train + n_test + n_val"
   ]
  },
  {
   "cell_type": "markdown",
   "id": "3fb66f9d",
   "metadata": {},
   "source": [
    "###### All records are accounted for"
   ]
  },
  {
   "cell_type": "code",
   "execution_count": 1207,
   "id": "f301c1da",
   "metadata": {},
   "outputs": [
    {
     "data": {
      "text/html": [
       "<div>\n",
       "<style scoped>\n",
       "    .dataframe tbody tr th:only-of-type {\n",
       "        vertical-align: middle;\n",
       "    }\n",
       "\n",
       "    .dataframe tbody tr th {\n",
       "        vertical-align: top;\n",
       "    }\n",
       "\n",
       "    .dataframe thead th {\n",
       "        text-align: right;\n",
       "    }\n",
       "</style>\n",
       "<table border=\"1\" class=\"dataframe\">\n",
       "  <thead>\n",
       "    <tr style=\"text-align: right;\">\n",
       "      <th></th>\n",
       "      <th>ram</th>\n",
       "      <th>storage</th>\n",
       "      <th>screen</th>\n",
       "      <th>final_price</th>\n",
       "    </tr>\n",
       "  </thead>\n",
       "  <tbody>\n",
       "    <tr>\n",
       "      <th>1296</th>\n",
       "      <td>8</td>\n",
       "      <td>512</td>\n",
       "      <td>15.6</td>\n",
       "      <td>789.84</td>\n",
       "    </tr>\n",
       "    <tr>\n",
       "      <th>1297</th>\n",
       "      <td>8</td>\n",
       "      <td>512</td>\n",
       "      <td>14.0</td>\n",
       "      <td>714.29</td>\n",
       "    </tr>\n",
       "    <tr>\n",
       "      <th>1298</th>\n",
       "      <td>8</td>\n",
       "      <td>256</td>\n",
       "      <td>15.6</td>\n",
       "      <td>691.97</td>\n",
       "    </tr>\n",
       "    <tr>\n",
       "      <th>1299</th>\n",
       "      <td>8</td>\n",
       "      <td>256</td>\n",
       "      <td>15.6</td>\n",
       "      <td>547.19</td>\n",
       "    </tr>\n",
       "    <tr>\n",
       "      <th>1300</th>\n",
       "      <td>32</td>\n",
       "      <td>1000</td>\n",
       "      <td>17.3</td>\n",
       "      <td>2052.74</td>\n",
       "    </tr>\n",
       "    <tr>\n",
       "      <th>...</th>\n",
       "      <td>...</td>\n",
       "      <td>...</td>\n",
       "      <td>...</td>\n",
       "      <td>...</td>\n",
       "    </tr>\n",
       "    <tr>\n",
       "      <th>2155</th>\n",
       "      <td>16</td>\n",
       "      <td>1000</td>\n",
       "      <td>17.3</td>\n",
       "      <td>2699.99</td>\n",
       "    </tr>\n",
       "    <tr>\n",
       "      <th>2156</th>\n",
       "      <td>16</td>\n",
       "      <td>1000</td>\n",
       "      <td>17.3</td>\n",
       "      <td>2899.99</td>\n",
       "    </tr>\n",
       "    <tr>\n",
       "      <th>2157</th>\n",
       "      <td>32</td>\n",
       "      <td>1000</td>\n",
       "      <td>17.3</td>\n",
       "      <td>3399.99</td>\n",
       "    </tr>\n",
       "    <tr>\n",
       "      <th>2158</th>\n",
       "      <td>16</td>\n",
       "      <td>1000</td>\n",
       "      <td>13.4</td>\n",
       "      <td>1899.99</td>\n",
       "    </tr>\n",
       "    <tr>\n",
       "      <th>2159</th>\n",
       "      <td>16</td>\n",
       "      <td>256</td>\n",
       "      <td>13.4</td>\n",
       "      <td>1699.99</td>\n",
       "    </tr>\n",
       "  </tbody>\n",
       "</table>\n",
       "<p>864 rows × 4 columns</p>\n",
       "</div>"
      ],
      "text/plain": [
       "      ram  storage  screen  final_price\n",
       "1296    8      512    15.6       789.84\n",
       "1297    8      512    14.0       714.29\n",
       "1298    8      256    15.6       691.97\n",
       "1299    8      256    15.6       547.19\n",
       "1300   32     1000    17.3      2052.74\n",
       "...   ...      ...     ...          ...\n",
       "2155   16     1000    17.3      2699.99\n",
       "2156   16     1000    17.3      2899.99\n",
       "2157   32     1000    17.3      3399.99\n",
       "2158   16     1000    13.4      1899.99\n",
       "2159   16      256    13.4      1699.99\n",
       "\n",
       "[864 rows x 4 columns]"
      ]
     },
     "execution_count": 1207,
     "metadata": {},
     "output_type": "execute_result"
    }
   ],
   "source": [
    "#dataframe for training\n",
    "df_train = df_sub.iloc[n_train:]\n",
    "df_train"
   ]
  },
  {
   "cell_type": "code",
   "execution_count": 1208,
   "id": "ca514e52",
   "metadata": {},
   "outputs": [
    {
     "data": {
      "text/html": [
       "<div>\n",
       "<style scoped>\n",
       "    .dataframe tbody tr th:only-of-type {\n",
       "        vertical-align: middle;\n",
       "    }\n",
       "\n",
       "    .dataframe tbody tr th {\n",
       "        vertical-align: top;\n",
       "    }\n",
       "\n",
       "    .dataframe thead th {\n",
       "        text-align: right;\n",
       "    }\n",
       "</style>\n",
       "<table border=\"1\" class=\"dataframe\">\n",
       "  <thead>\n",
       "    <tr style=\"text-align: right;\">\n",
       "      <th></th>\n",
       "      <th>ram</th>\n",
       "      <th>storage</th>\n",
       "      <th>screen</th>\n",
       "      <th>final_price</th>\n",
       "    </tr>\n",
       "  </thead>\n",
       "  <tbody>\n",
       "    <tr>\n",
       "      <th>1296</th>\n",
       "      <td>8</td>\n",
       "      <td>512</td>\n",
       "      <td>15.6</td>\n",
       "      <td>789.84</td>\n",
       "    </tr>\n",
       "    <tr>\n",
       "      <th>1297</th>\n",
       "      <td>8</td>\n",
       "      <td>512</td>\n",
       "      <td>14.0</td>\n",
       "      <td>714.29</td>\n",
       "    </tr>\n",
       "    <tr>\n",
       "      <th>1298</th>\n",
       "      <td>8</td>\n",
       "      <td>256</td>\n",
       "      <td>15.6</td>\n",
       "      <td>691.97</td>\n",
       "    </tr>\n",
       "    <tr>\n",
       "      <th>1299</th>\n",
       "      <td>8</td>\n",
       "      <td>256</td>\n",
       "      <td>15.6</td>\n",
       "      <td>547.19</td>\n",
       "    </tr>\n",
       "    <tr>\n",
       "      <th>1300</th>\n",
       "      <td>32</td>\n",
       "      <td>1000</td>\n",
       "      <td>17.3</td>\n",
       "      <td>2052.74</td>\n",
       "    </tr>\n",
       "    <tr>\n",
       "      <th>...</th>\n",
       "      <td>...</td>\n",
       "      <td>...</td>\n",
       "      <td>...</td>\n",
       "      <td>...</td>\n",
       "    </tr>\n",
       "    <tr>\n",
       "      <th>1723</th>\n",
       "      <td>16</td>\n",
       "      <td>512</td>\n",
       "      <td>15.6</td>\n",
       "      <td>1199.00</td>\n",
       "    </tr>\n",
       "    <tr>\n",
       "      <th>1724</th>\n",
       "      <td>16</td>\n",
       "      <td>1000</td>\n",
       "      <td>15.6</td>\n",
       "      <td>1599.00</td>\n",
       "    </tr>\n",
       "    <tr>\n",
       "      <th>1725</th>\n",
       "      <td>16</td>\n",
       "      <td>1000</td>\n",
       "      <td>17.3</td>\n",
       "      <td>1214.63</td>\n",
       "    </tr>\n",
       "    <tr>\n",
       "      <th>1726</th>\n",
       "      <td>16</td>\n",
       "      <td>1000</td>\n",
       "      <td>17.3</td>\n",
       "      <td>966.04</td>\n",
       "    </tr>\n",
       "    <tr>\n",
       "      <th>1727</th>\n",
       "      <td>8</td>\n",
       "      <td>512</td>\n",
       "      <td>14.0</td>\n",
       "      <td>1499.00</td>\n",
       "    </tr>\n",
       "  </tbody>\n",
       "</table>\n",
       "<p>432 rows × 4 columns</p>\n",
       "</div>"
      ],
      "text/plain": [
       "      ram  storage  screen  final_price\n",
       "1296    8      512    15.6       789.84\n",
       "1297    8      512    14.0       714.29\n",
       "1298    8      256    15.6       691.97\n",
       "1299    8      256    15.6       547.19\n",
       "1300   32     1000    17.3      2052.74\n",
       "...   ...      ...     ...          ...\n",
       "1723   16      512    15.6      1199.00\n",
       "1724   16     1000    15.6      1599.00\n",
       "1725   16     1000    17.3      1214.63\n",
       "1726   16     1000    17.3       966.04\n",
       "1727    8      512    14.0      1499.00\n",
       "\n",
       "[432 rows x 4 columns]"
      ]
     },
     "execution_count": 1208,
     "metadata": {},
     "output_type": "execute_result"
    }
   ],
   "source": [
    "#dataframe for validation\n",
    "df_val = df_sub.iloc[n_train:n_train+n_val]\n",
    "df_val"
   ]
  },
  {
   "cell_type": "code",
   "execution_count": 1209,
   "id": "a37caa3a",
   "metadata": {},
   "outputs": [
    {
     "data": {
      "text/html": [
       "<div>\n",
       "<style scoped>\n",
       "    .dataframe tbody tr th:only-of-type {\n",
       "        vertical-align: middle;\n",
       "    }\n",
       "\n",
       "    .dataframe tbody tr th {\n",
       "        vertical-align: top;\n",
       "    }\n",
       "\n",
       "    .dataframe thead th {\n",
       "        text-align: right;\n",
       "    }\n",
       "</style>\n",
       "<table border=\"1\" class=\"dataframe\">\n",
       "  <thead>\n",
       "    <tr style=\"text-align: right;\">\n",
       "      <th></th>\n",
       "      <th>ram</th>\n",
       "      <th>storage</th>\n",
       "      <th>screen</th>\n",
       "      <th>final_price</th>\n",
       "    </tr>\n",
       "  </thead>\n",
       "  <tbody>\n",
       "    <tr>\n",
       "      <th>1728</th>\n",
       "      <td>16</td>\n",
       "      <td>1000</td>\n",
       "      <td>15.6</td>\n",
       "      <td>914.64</td>\n",
       "    </tr>\n",
       "    <tr>\n",
       "      <th>1729</th>\n",
       "      <td>16</td>\n",
       "      <td>1000</td>\n",
       "      <td>15.6</td>\n",
       "      <td>1098.29</td>\n",
       "    </tr>\n",
       "    <tr>\n",
       "      <th>1730</th>\n",
       "      <td>32</td>\n",
       "      <td>1000</td>\n",
       "      <td>15.6</td>\n",
       "      <td>1344.69</td>\n",
       "    </tr>\n",
       "    <tr>\n",
       "      <th>1731</th>\n",
       "      <td>32</td>\n",
       "      <td>1000</td>\n",
       "      <td>16.0</td>\n",
       "      <td>1751.09</td>\n",
       "    </tr>\n",
       "    <tr>\n",
       "      <th>1732</th>\n",
       "      <td>8</td>\n",
       "      <td>256</td>\n",
       "      <td>13.3</td>\n",
       "      <td>710.00</td>\n",
       "    </tr>\n",
       "    <tr>\n",
       "      <th>...</th>\n",
       "      <td>...</td>\n",
       "      <td>...</td>\n",
       "      <td>...</td>\n",
       "      <td>...</td>\n",
       "    </tr>\n",
       "    <tr>\n",
       "      <th>2155</th>\n",
       "      <td>16</td>\n",
       "      <td>1000</td>\n",
       "      <td>17.3</td>\n",
       "      <td>2699.99</td>\n",
       "    </tr>\n",
       "    <tr>\n",
       "      <th>2156</th>\n",
       "      <td>16</td>\n",
       "      <td>1000</td>\n",
       "      <td>17.3</td>\n",
       "      <td>2899.99</td>\n",
       "    </tr>\n",
       "    <tr>\n",
       "      <th>2157</th>\n",
       "      <td>32</td>\n",
       "      <td>1000</td>\n",
       "      <td>17.3</td>\n",
       "      <td>3399.99</td>\n",
       "    </tr>\n",
       "    <tr>\n",
       "      <th>2158</th>\n",
       "      <td>16</td>\n",
       "      <td>1000</td>\n",
       "      <td>13.4</td>\n",
       "      <td>1899.99</td>\n",
       "    </tr>\n",
       "    <tr>\n",
       "      <th>2159</th>\n",
       "      <td>16</td>\n",
       "      <td>256</td>\n",
       "      <td>13.4</td>\n",
       "      <td>1699.99</td>\n",
       "    </tr>\n",
       "  </tbody>\n",
       "</table>\n",
       "<p>432 rows × 4 columns</p>\n",
       "</div>"
      ],
      "text/plain": [
       "      ram  storage  screen  final_price\n",
       "1728   16     1000    15.6       914.64\n",
       "1729   16     1000    15.6      1098.29\n",
       "1730   32     1000    15.6      1344.69\n",
       "1731   32     1000    16.0      1751.09\n",
       "1732    8      256    13.3       710.00\n",
       "...   ...      ...     ...          ...\n",
       "2155   16     1000    17.3      2699.99\n",
       "2156   16     1000    17.3      2899.99\n",
       "2157   32     1000    17.3      3399.99\n",
       "2158   16     1000    13.4      1899.99\n",
       "2159   16      256    13.4      1699.99\n",
       "\n",
       "[432 rows x 4 columns]"
      ]
     },
     "execution_count": 1209,
     "metadata": {},
     "output_type": "execute_result"
    }
   ],
   "source": [
    "#dataframe for testing\n",
    "df_test = df_sub.iloc[n_train+n_val:]\n",
    "df_test"
   ]
  },
  {
   "cell_type": "markdown",
   "id": "6db5a6ab",
   "metadata": {},
   "source": [
    "###### The above dataframes were created sequentially, that is, some data in the train dataframe might not be in test dataframe or in the validating dataframe. To fix that we will shuffle the data in the dataset"
   ]
  },
  {
   "cell_type": "code",
   "execution_count": 1210,
   "id": "976148b5",
   "metadata": {},
   "outputs": [
    {
     "data": {
      "text/plain": [
       "array([   0,    1,    2, ..., 2157, 2158, 2159], shape=(2160,))"
      ]
     },
     "execution_count": 1210,
     "metadata": {},
     "output_type": "execute_result"
    }
   ],
   "source": [
    "#create an array of numbers from the dataset\n",
    "idx = np.arange(n)\n",
    "idx"
   ]
  },
  {
   "cell_type": "code",
   "execution_count": 1211,
   "id": "12563289",
   "metadata": {},
   "outputs": [
    {
     "data": {
      "text/plain": [
       "array([2079,  668, 2073, ..., 1130, 1294,  860], shape=(2160,))"
      ]
     },
     "execution_count": 1211,
     "metadata": {},
     "output_type": "execute_result"
    }
   ],
   "source": [
    "#shuffle the range of numbers (to make results reproducible, we add a seed to the random shuffle)\n",
    "np.random.seed(42)\n",
    "np.random.shuffle(idx)\n",
    "idx"
   ]
  },
  {
   "cell_type": "code",
   "execution_count": 1212,
   "id": "234040ef",
   "metadata": {},
   "outputs": [],
   "source": [
    "#replace the sequential rows in the new dataframes with the shuffled rows\n",
    "df_train = df.iloc[idx[:n_train]]\n",
    "\n",
    "df_val = df.iloc[idx[n_train:n_train+n_val]]\n",
    "\n",
    "df_test = df.iloc[idx[n_train+n_val:]]"
   ]
  },
  {
   "cell_type": "code",
   "execution_count": 1213,
   "id": "36ea49ef",
   "metadata": {},
   "outputs": [
    {
     "data": {
      "text/html": [
       "<div>\n",
       "<style scoped>\n",
       "    .dataframe tbody tr th:only-of-type {\n",
       "        vertical-align: middle;\n",
       "    }\n",
       "\n",
       "    .dataframe tbody tr th {\n",
       "        vertical-align: top;\n",
       "    }\n",
       "\n",
       "    .dataframe thead th {\n",
       "        text-align: right;\n",
       "    }\n",
       "</style>\n",
       "<table border=\"1\" class=\"dataframe\">\n",
       "  <thead>\n",
       "    <tr style=\"text-align: right;\">\n",
       "      <th></th>\n",
       "      <th>laptop</th>\n",
       "      <th>status</th>\n",
       "      <th>brand</th>\n",
       "      <th>model</th>\n",
       "      <th>cpu</th>\n",
       "      <th>ram</th>\n",
       "      <th>storage</th>\n",
       "      <th>storage_type</th>\n",
       "      <th>gpu</th>\n",
       "      <th>screen</th>\n",
       "      <th>touch</th>\n",
       "      <th>final_price</th>\n",
       "    </tr>\n",
       "  </thead>\n",
       "  <tbody>\n",
       "    <tr>\n",
       "      <th>2079</th>\n",
       "      <td>MSI Modern 15 A11SBU-620XES Intel Core i7-1165...</td>\n",
       "      <td>Refurbished</td>\n",
       "      <td>MSI</td>\n",
       "      <td>Modern</td>\n",
       "      <td>Intel Core i7</td>\n",
       "      <td>32</td>\n",
       "      <td>1000</td>\n",
       "      <td>SSD</td>\n",
       "      <td>MX 450</td>\n",
       "      <td>15.6</td>\n",
       "      <td>No</td>\n",
       "      <td>1123.29</td>\n",
       "    </tr>\n",
       "    <tr>\n",
       "      <th>668</th>\n",
       "      <td>Thomson Neo White Intel Celeron N4020/4GB/64GB...</td>\n",
       "      <td>New</td>\n",
       "      <td>Thomson</td>\n",
       "      <td>Neo</td>\n",
       "      <td>Intel Celeron</td>\n",
       "      <td>4</td>\n",
       "      <td>64</td>\n",
       "      <td>eMMC</td>\n",
       "      <td>NaN</td>\n",
       "      <td>14.1</td>\n",
       "      <td>No</td>\n",
       "      <td>201.05</td>\n",
       "    </tr>\n",
       "    <tr>\n",
       "      <th>2073</th>\n",
       "      <td>MSI Modern 14 B11SB-420XES Intel Core i7-1165G...</td>\n",
       "      <td>Refurbished</td>\n",
       "      <td>MSI</td>\n",
       "      <td>Modern</td>\n",
       "      <td>Intel Core i7</td>\n",
       "      <td>32</td>\n",
       "      <td>1000</td>\n",
       "      <td>SSD</td>\n",
       "      <td>MX 450</td>\n",
       "      <td>14.0</td>\n",
       "      <td>No</td>\n",
       "      <td>997.74</td>\n",
       "    </tr>\n",
       "    <tr>\n",
       "      <th>1113</th>\n",
       "      <td>ASUS ZenBook 13 OLED UX325EA Intel Evo Core i7...</td>\n",
       "      <td>New</td>\n",
       "      <td>Asus</td>\n",
       "      <td>ZenBook</td>\n",
       "      <td>Intel Evo Core i7</td>\n",
       "      <td>16</td>\n",
       "      <td>512</td>\n",
       "      <td>SSD</td>\n",
       "      <td>NaN</td>\n",
       "      <td>13.3</td>\n",
       "      <td>No</td>\n",
       "      <td>1016.00</td>\n",
       "    </tr>\n",
       "    <tr>\n",
       "      <th>788</th>\n",
       "      <td>Acer Predator Triton 500 SE PT516-51s-75K6 Int...</td>\n",
       "      <td>New</td>\n",
       "      <td>Acer</td>\n",
       "      <td>Predator</td>\n",
       "      <td>Intel Core i7</td>\n",
       "      <td>32</td>\n",
       "      <td>1000</td>\n",
       "      <td>SSD</td>\n",
       "      <td>RTX 3080</td>\n",
       "      <td>16.0</td>\n",
       "      <td>No</td>\n",
       "      <td>2739.00</td>\n",
       "    </tr>\n",
       "  </tbody>\n",
       "</table>\n",
       "</div>"
      ],
      "text/plain": [
       "                                                 laptop       status    brand  \\\n",
       "2079  MSI Modern 15 A11SBU-620XES Intel Core i7-1165...  Refurbished      MSI   \n",
       "668   Thomson Neo White Intel Celeron N4020/4GB/64GB...          New  Thomson   \n",
       "2073  MSI Modern 14 B11SB-420XES Intel Core i7-1165G...  Refurbished      MSI   \n",
       "1113  ASUS ZenBook 13 OLED UX325EA Intel Evo Core i7...          New     Asus   \n",
       "788   Acer Predator Triton 500 SE PT516-51s-75K6 Int...          New     Acer   \n",
       "\n",
       "         model                cpu  ram  storage storage_type       gpu  \\\n",
       "2079    Modern      Intel Core i7   32     1000          SSD    MX 450   \n",
       "668        Neo      Intel Celeron    4       64         eMMC       NaN   \n",
       "2073    Modern      Intel Core i7   32     1000          SSD    MX 450   \n",
       "1113   ZenBook  Intel Evo Core i7   16      512          SSD       NaN   \n",
       "788   Predator      Intel Core i7   32     1000          SSD  RTX 3080   \n",
       "\n",
       "      screen touch  final_price  \n",
       "2079    15.6    No      1123.29  \n",
       "668     14.1    No       201.05  \n",
       "2073    14.0    No       997.74  \n",
       "1113    13.3    No      1016.00  \n",
       "788     16.0    No      2739.00  "
      ]
     },
     "execution_count": 1213,
     "metadata": {},
     "output_type": "execute_result"
    }
   ],
   "source": [
    "#first five rows of training df\n",
    "df_train.head()"
   ]
  },
  {
   "cell_type": "code",
   "execution_count": 1214,
   "id": "0deb753a",
   "metadata": {},
   "outputs": [
    {
     "data": {
      "text/html": [
       "<div>\n",
       "<style scoped>\n",
       "    .dataframe tbody tr th:only-of-type {\n",
       "        vertical-align: middle;\n",
       "    }\n",
       "\n",
       "    .dataframe tbody tr th {\n",
       "        vertical-align: top;\n",
       "    }\n",
       "\n",
       "    .dataframe thead th {\n",
       "        text-align: right;\n",
       "    }\n",
       "</style>\n",
       "<table border=\"1\" class=\"dataframe\">\n",
       "  <thead>\n",
       "    <tr style=\"text-align: right;\">\n",
       "      <th></th>\n",
       "      <th>laptop</th>\n",
       "      <th>status</th>\n",
       "      <th>brand</th>\n",
       "      <th>model</th>\n",
       "      <th>cpu</th>\n",
       "      <th>ram</th>\n",
       "      <th>storage</th>\n",
       "      <th>storage_type</th>\n",
       "      <th>gpu</th>\n",
       "      <th>screen</th>\n",
       "      <th>touch</th>\n",
       "      <th>final_price</th>\n",
       "    </tr>\n",
       "  </thead>\n",
       "  <tbody>\n",
       "    <tr>\n",
       "      <th>132</th>\n",
       "      <td>MSI Raider GE68HX 13VF-045XES Intel Core i9-13...</td>\n",
       "      <td>New</td>\n",
       "      <td>MSI</td>\n",
       "      <td>Raider</td>\n",
       "      <td>Intel Core i9</td>\n",
       "      <td>32</td>\n",
       "      <td>1000</td>\n",
       "      <td>SSD</td>\n",
       "      <td>RTX 4060</td>\n",
       "      <td>16.0</td>\n",
       "      <td>No</td>\n",
       "      <td>2599.00</td>\n",
       "    </tr>\n",
       "    <tr>\n",
       "      <th>80</th>\n",
       "      <td>HP Pavilion 15-eg2004ns Intel Core i7-1255U/16...</td>\n",
       "      <td>New</td>\n",
       "      <td>HP</td>\n",
       "      <td>Pavilion</td>\n",
       "      <td>Intel Core i7</td>\n",
       "      <td>16</td>\n",
       "      <td>512</td>\n",
       "      <td>SSD</td>\n",
       "      <td>NaN</td>\n",
       "      <td>15.6</td>\n",
       "      <td>No</td>\n",
       "      <td>999.00</td>\n",
       "    </tr>\n",
       "    <tr>\n",
       "      <th>1706</th>\n",
       "      <td>Acer Aspire 3 A315-56-52KD Intel Core i5-1035G...</td>\n",
       "      <td>Refurbished</td>\n",
       "      <td>Acer</td>\n",
       "      <td>Aspire</td>\n",
       "      <td>Intel Core i5</td>\n",
       "      <td>12</td>\n",
       "      <td>512</td>\n",
       "      <td>SSD</td>\n",
       "      <td>NaN</td>\n",
       "      <td>15.6</td>\n",
       "      <td>No</td>\n",
       "      <td>477.28</td>\n",
       "    </tr>\n",
       "    <tr>\n",
       "      <th>1769</th>\n",
       "      <td>Apple Macbook Air Apple M2/8 GB/256GB SSD/GPU ...</td>\n",
       "      <td>Refurbished</td>\n",
       "      <td>Apple</td>\n",
       "      <td>MacBook Air</td>\n",
       "      <td>Apple M2</td>\n",
       "      <td>8</td>\n",
       "      <td>256</td>\n",
       "      <td>SSD</td>\n",
       "      <td>NaN</td>\n",
       "      <td>13.6</td>\n",
       "      <td>No</td>\n",
       "      <td>1519.00</td>\n",
       "    </tr>\n",
       "    <tr>\n",
       "      <th>541</th>\n",
       "      <td>Asus M515UA-EJ374 AMD Ryzen 5 5500U/8GB/512GB ...</td>\n",
       "      <td>New</td>\n",
       "      <td>Asus</td>\n",
       "      <td>M515UA</td>\n",
       "      <td>AMD Ryzen 5</td>\n",
       "      <td>8</td>\n",
       "      <td>512</td>\n",
       "      <td>SSD</td>\n",
       "      <td>NaN</td>\n",
       "      <td>15.6</td>\n",
       "      <td>No</td>\n",
       "      <td>402.99</td>\n",
       "    </tr>\n",
       "  </tbody>\n",
       "</table>\n",
       "</div>"
      ],
      "text/plain": [
       "                                                 laptop       status  brand  \\\n",
       "132   MSI Raider GE68HX 13VF-045XES Intel Core i9-13...          New    MSI   \n",
       "80    HP Pavilion 15-eg2004ns Intel Core i7-1255U/16...          New     HP   \n",
       "1706  Acer Aspire 3 A315-56-52KD Intel Core i5-1035G...  Refurbished   Acer   \n",
       "1769  Apple Macbook Air Apple M2/8 GB/256GB SSD/GPU ...  Refurbished  Apple   \n",
       "541   Asus M515UA-EJ374 AMD Ryzen 5 5500U/8GB/512GB ...          New   Asus   \n",
       "\n",
       "            model            cpu  ram  storage storage_type       gpu  screen  \\\n",
       "132        Raider  Intel Core i9   32     1000          SSD  RTX 4060    16.0   \n",
       "80       Pavilion  Intel Core i7   16      512          SSD       NaN    15.6   \n",
       "1706       Aspire  Intel Core i5   12      512          SSD       NaN    15.6   \n",
       "1769  MacBook Air       Apple M2    8      256          SSD       NaN    13.6   \n",
       "541        M515UA    AMD Ryzen 5    8      512          SSD       NaN    15.6   \n",
       "\n",
       "     touch  final_price  \n",
       "132     No      2599.00  \n",
       "80      No       999.00  \n",
       "1706    No       477.28  \n",
       "1769    No      1519.00  \n",
       "541     No       402.99  "
      ]
     },
     "execution_count": 1214,
     "metadata": {},
     "output_type": "execute_result"
    }
   ],
   "source": [
    "#first five rows of validation df\n",
    "df_val.head()"
   ]
  },
  {
   "cell_type": "code",
   "execution_count": 1215,
   "id": "f83d907d",
   "metadata": {},
   "outputs": [
    {
     "data": {
      "text/html": [
       "<div>\n",
       "<style scoped>\n",
       "    .dataframe tbody tr th:only-of-type {\n",
       "        vertical-align: middle;\n",
       "    }\n",
       "\n",
       "    .dataframe tbody tr th {\n",
       "        vertical-align: top;\n",
       "    }\n",
       "\n",
       "    .dataframe thead th {\n",
       "        text-align: right;\n",
       "    }\n",
       "</style>\n",
       "<table border=\"1\" class=\"dataframe\">\n",
       "  <thead>\n",
       "    <tr style=\"text-align: right;\">\n",
       "      <th></th>\n",
       "      <th>laptop</th>\n",
       "      <th>status</th>\n",
       "      <th>brand</th>\n",
       "      <th>model</th>\n",
       "      <th>cpu</th>\n",
       "      <th>ram</th>\n",
       "      <th>storage</th>\n",
       "      <th>storage_type</th>\n",
       "      <th>gpu</th>\n",
       "      <th>screen</th>\n",
       "      <th>touch</th>\n",
       "      <th>final_price</th>\n",
       "    </tr>\n",
       "  </thead>\n",
       "  <tbody>\n",
       "    <tr>\n",
       "      <th>1925</th>\n",
       "      <td>HP ZBook Fury G8 Intel Core i9-11900H/32GB/1TB...</td>\n",
       "      <td>Refurbished</td>\n",
       "      <td>HP</td>\n",
       "      <td>Zbook</td>\n",
       "      <td>Intel Core i9</td>\n",
       "      <td>32</td>\n",
       "      <td>1000</td>\n",
       "      <td>SSD</td>\n",
       "      <td>NaN</td>\n",
       "      <td>15.6</td>\n",
       "      <td>No</td>\n",
       "      <td>4805.65</td>\n",
       "    </tr>\n",
       "    <tr>\n",
       "      <th>612</th>\n",
       "      <td>Microsoft Surface Pro 9 Grafito Intel Evo Core...</td>\n",
       "      <td>New</td>\n",
       "      <td>Microsoft</td>\n",
       "      <td>Surface Pro</td>\n",
       "      <td>Intel Evo Core i7</td>\n",
       "      <td>16</td>\n",
       "      <td>512</td>\n",
       "      <td>SSD</td>\n",
       "      <td>NaN</td>\n",
       "      <td>13.0</td>\n",
       "      <td>Yes</td>\n",
       "      <td>2189.00</td>\n",
       "    </tr>\n",
       "    <tr>\n",
       "      <th>443</th>\n",
       "      <td>MSI Katana GF66 12UE-1203XES Intel Core i5-124...</td>\n",
       "      <td>New</td>\n",
       "      <td>MSI</td>\n",
       "      <td>Katana</td>\n",
       "      <td>Intel Core i5</td>\n",
       "      <td>16</td>\n",
       "      <td>512</td>\n",
       "      <td>SSD</td>\n",
       "      <td>RTX 3060</td>\n",
       "      <td>15.6</td>\n",
       "      <td>No</td>\n",
       "      <td>1349.00</td>\n",
       "    </tr>\n",
       "    <tr>\n",
       "      <th>1002</th>\n",
       "      <td>LG Gram UltraSlim 15Z90RT-G.AA75B Intel Evo Co...</td>\n",
       "      <td>New</td>\n",
       "      <td>LG</td>\n",
       "      <td>Gram</td>\n",
       "      <td>Intel Evo Core i7</td>\n",
       "      <td>16</td>\n",
       "      <td>512</td>\n",
       "      <td>SSD</td>\n",
       "      <td>NaN</td>\n",
       "      <td>15.0</td>\n",
       "      <td>No</td>\n",
       "      <td>2175.83</td>\n",
       "    </tr>\n",
       "    <tr>\n",
       "      <th>1077</th>\n",
       "      <td>Asus Rog Strix G15 G513QY-HQ008 AMD Ryzen 9 59...</td>\n",
       "      <td>Refurbished</td>\n",
       "      <td>Asus</td>\n",
       "      <td>ROG</td>\n",
       "      <td>AMD Ryzen 9</td>\n",
       "      <td>16</td>\n",
       "      <td>1000</td>\n",
       "      <td>SSD</td>\n",
       "      <td>NaN</td>\n",
       "      <td>15.6</td>\n",
       "      <td>No</td>\n",
       "      <td>1248.59</td>\n",
       "    </tr>\n",
       "  </tbody>\n",
       "</table>\n",
       "</div>"
      ],
      "text/plain": [
       "                                                 laptop       status  \\\n",
       "1925  HP ZBook Fury G8 Intel Core i9-11900H/32GB/1TB...  Refurbished   \n",
       "612   Microsoft Surface Pro 9 Grafito Intel Evo Core...          New   \n",
       "443   MSI Katana GF66 12UE-1203XES Intel Core i5-124...          New   \n",
       "1002  LG Gram UltraSlim 15Z90RT-G.AA75B Intel Evo Co...          New   \n",
       "1077  Asus Rog Strix G15 G513QY-HQ008 AMD Ryzen 9 59...  Refurbished   \n",
       "\n",
       "          brand        model                cpu  ram  storage storage_type  \\\n",
       "1925         HP        Zbook      Intel Core i9   32     1000          SSD   \n",
       "612   Microsoft  Surface Pro  Intel Evo Core i7   16      512          SSD   \n",
       "443         MSI       Katana      Intel Core i5   16      512          SSD   \n",
       "1002         LG         Gram  Intel Evo Core i7   16      512          SSD   \n",
       "1077       Asus          ROG        AMD Ryzen 9   16     1000          SSD   \n",
       "\n",
       "           gpu  screen touch  final_price  \n",
       "1925       NaN    15.6    No      4805.65  \n",
       "612        NaN    13.0   Yes      2189.00  \n",
       "443   RTX 3060    15.6    No      1349.00  \n",
       "1002       NaN    15.0    No      2175.83  \n",
       "1077       NaN    15.6    No      1248.59  "
      ]
     },
     "execution_count": 1215,
     "metadata": {},
     "output_type": "execute_result"
    }
   ],
   "source": [
    "#first five rows of testing df\n",
    "df_test.head()"
   ]
  },
  {
   "cell_type": "code",
   "execution_count": 1216,
   "id": "488cf750",
   "metadata": {},
   "outputs": [],
   "source": [
    "#reset the index for each dataframe\n",
    "df_train = df_train.reset_index(drop=True)\n",
    "df_val = df_val.reset_index(drop=True)\n",
    "df_test = df_test.reset_index(drop=True)"
   ]
  },
  {
   "cell_type": "code",
   "execution_count": 1217,
   "id": "2db637f0",
   "metadata": {},
   "outputs": [
    {
     "data": {
      "text/html": [
       "<div>\n",
       "<style scoped>\n",
       "    .dataframe tbody tr th:only-of-type {\n",
       "        vertical-align: middle;\n",
       "    }\n",
       "\n",
       "    .dataframe tbody tr th {\n",
       "        vertical-align: top;\n",
       "    }\n",
       "\n",
       "    .dataframe thead th {\n",
       "        text-align: right;\n",
       "    }\n",
       "</style>\n",
       "<table border=\"1\" class=\"dataframe\">\n",
       "  <thead>\n",
       "    <tr style=\"text-align: right;\">\n",
       "      <th></th>\n",
       "      <th>laptop</th>\n",
       "      <th>status</th>\n",
       "      <th>brand</th>\n",
       "      <th>model</th>\n",
       "      <th>cpu</th>\n",
       "      <th>ram</th>\n",
       "      <th>storage</th>\n",
       "      <th>storage_type</th>\n",
       "      <th>gpu</th>\n",
       "      <th>screen</th>\n",
       "      <th>touch</th>\n",
       "      <th>final_price</th>\n",
       "    </tr>\n",
       "  </thead>\n",
       "  <tbody>\n",
       "    <tr>\n",
       "      <th>0</th>\n",
       "      <td>MSI Modern 15 A11SBU-620XES Intel Core i7-1165...</td>\n",
       "      <td>Refurbished</td>\n",
       "      <td>MSI</td>\n",
       "      <td>Modern</td>\n",
       "      <td>Intel Core i7</td>\n",
       "      <td>32</td>\n",
       "      <td>1000</td>\n",
       "      <td>SSD</td>\n",
       "      <td>MX 450</td>\n",
       "      <td>15.6</td>\n",
       "      <td>No</td>\n",
       "      <td>1123.29</td>\n",
       "    </tr>\n",
       "    <tr>\n",
       "      <th>1</th>\n",
       "      <td>Thomson Neo White Intel Celeron N4020/4GB/64GB...</td>\n",
       "      <td>New</td>\n",
       "      <td>Thomson</td>\n",
       "      <td>Neo</td>\n",
       "      <td>Intel Celeron</td>\n",
       "      <td>4</td>\n",
       "      <td>64</td>\n",
       "      <td>eMMC</td>\n",
       "      <td>NaN</td>\n",
       "      <td>14.1</td>\n",
       "      <td>No</td>\n",
       "      <td>201.05</td>\n",
       "    </tr>\n",
       "    <tr>\n",
       "      <th>2</th>\n",
       "      <td>MSI Modern 14 B11SB-420XES Intel Core i7-1165G...</td>\n",
       "      <td>Refurbished</td>\n",
       "      <td>MSI</td>\n",
       "      <td>Modern</td>\n",
       "      <td>Intel Core i7</td>\n",
       "      <td>32</td>\n",
       "      <td>1000</td>\n",
       "      <td>SSD</td>\n",
       "      <td>MX 450</td>\n",
       "      <td>14.0</td>\n",
       "      <td>No</td>\n",
       "      <td>997.74</td>\n",
       "    </tr>\n",
       "    <tr>\n",
       "      <th>3</th>\n",
       "      <td>ASUS ZenBook 13 OLED UX325EA Intel Evo Core i7...</td>\n",
       "      <td>New</td>\n",
       "      <td>Asus</td>\n",
       "      <td>ZenBook</td>\n",
       "      <td>Intel Evo Core i7</td>\n",
       "      <td>16</td>\n",
       "      <td>512</td>\n",
       "      <td>SSD</td>\n",
       "      <td>NaN</td>\n",
       "      <td>13.3</td>\n",
       "      <td>No</td>\n",
       "      <td>1016.00</td>\n",
       "    </tr>\n",
       "    <tr>\n",
       "      <th>4</th>\n",
       "      <td>Acer Predator Triton 500 SE PT516-51s-75K6 Int...</td>\n",
       "      <td>New</td>\n",
       "      <td>Acer</td>\n",
       "      <td>Predator</td>\n",
       "      <td>Intel Core i7</td>\n",
       "      <td>32</td>\n",
       "      <td>1000</td>\n",
       "      <td>SSD</td>\n",
       "      <td>RTX 3080</td>\n",
       "      <td>16.0</td>\n",
       "      <td>No</td>\n",
       "      <td>2739.00</td>\n",
       "    </tr>\n",
       "  </tbody>\n",
       "</table>\n",
       "</div>"
      ],
      "text/plain": [
       "                                              laptop       status    brand  \\\n",
       "0  MSI Modern 15 A11SBU-620XES Intel Core i7-1165...  Refurbished      MSI   \n",
       "1  Thomson Neo White Intel Celeron N4020/4GB/64GB...          New  Thomson   \n",
       "2  MSI Modern 14 B11SB-420XES Intel Core i7-1165G...  Refurbished      MSI   \n",
       "3  ASUS ZenBook 13 OLED UX325EA Intel Evo Core i7...          New     Asus   \n",
       "4  Acer Predator Triton 500 SE PT516-51s-75K6 Int...          New     Acer   \n",
       "\n",
       "      model                cpu  ram  storage storage_type       gpu  screen  \\\n",
       "0    Modern      Intel Core i7   32     1000          SSD    MX 450    15.6   \n",
       "1       Neo      Intel Celeron    4       64         eMMC       NaN    14.1   \n",
       "2    Modern      Intel Core i7   32     1000          SSD    MX 450    14.0   \n",
       "3   ZenBook  Intel Evo Core i7   16      512          SSD       NaN    13.3   \n",
       "4  Predator      Intel Core i7   32     1000          SSD  RTX 3080    16.0   \n",
       "\n",
       "  touch  final_price  \n",
       "0    No      1123.29  \n",
       "1    No       201.05  \n",
       "2    No       997.74  \n",
       "3    No      1016.00  \n",
       "4    No      2739.00  "
      ]
     },
     "execution_count": 1217,
     "metadata": {},
     "output_type": "execute_result"
    }
   ],
   "source": [
    "df_train.head()"
   ]
  },
  {
   "cell_type": "code",
   "execution_count": 1218,
   "id": "249540a8",
   "metadata": {},
   "outputs": [
    {
     "data": {
      "text/html": [
       "<div>\n",
       "<style scoped>\n",
       "    .dataframe tbody tr th:only-of-type {\n",
       "        vertical-align: middle;\n",
       "    }\n",
       "\n",
       "    .dataframe tbody tr th {\n",
       "        vertical-align: top;\n",
       "    }\n",
       "\n",
       "    .dataframe thead th {\n",
       "        text-align: right;\n",
       "    }\n",
       "</style>\n",
       "<table border=\"1\" class=\"dataframe\">\n",
       "  <thead>\n",
       "    <tr style=\"text-align: right;\">\n",
       "      <th></th>\n",
       "      <th>laptop</th>\n",
       "      <th>status</th>\n",
       "      <th>brand</th>\n",
       "      <th>model</th>\n",
       "      <th>cpu</th>\n",
       "      <th>ram</th>\n",
       "      <th>storage</th>\n",
       "      <th>storage_type</th>\n",
       "      <th>gpu</th>\n",
       "      <th>screen</th>\n",
       "      <th>touch</th>\n",
       "      <th>final_price</th>\n",
       "    </tr>\n",
       "  </thead>\n",
       "  <tbody>\n",
       "    <tr>\n",
       "      <th>0</th>\n",
       "      <td>MSI Raider GE68HX 13VF-045XES Intel Core i9-13...</td>\n",
       "      <td>New</td>\n",
       "      <td>MSI</td>\n",
       "      <td>Raider</td>\n",
       "      <td>Intel Core i9</td>\n",
       "      <td>32</td>\n",
       "      <td>1000</td>\n",
       "      <td>SSD</td>\n",
       "      <td>RTX 4060</td>\n",
       "      <td>16.0</td>\n",
       "      <td>No</td>\n",
       "      <td>2599.00</td>\n",
       "    </tr>\n",
       "    <tr>\n",
       "      <th>1</th>\n",
       "      <td>HP Pavilion 15-eg2004ns Intel Core i7-1255U/16...</td>\n",
       "      <td>New</td>\n",
       "      <td>HP</td>\n",
       "      <td>Pavilion</td>\n",
       "      <td>Intel Core i7</td>\n",
       "      <td>16</td>\n",
       "      <td>512</td>\n",
       "      <td>SSD</td>\n",
       "      <td>NaN</td>\n",
       "      <td>15.6</td>\n",
       "      <td>No</td>\n",
       "      <td>999.00</td>\n",
       "    </tr>\n",
       "    <tr>\n",
       "      <th>2</th>\n",
       "      <td>Acer Aspire 3 A315-56-52KD Intel Core i5-1035G...</td>\n",
       "      <td>Refurbished</td>\n",
       "      <td>Acer</td>\n",
       "      <td>Aspire</td>\n",
       "      <td>Intel Core i5</td>\n",
       "      <td>12</td>\n",
       "      <td>512</td>\n",
       "      <td>SSD</td>\n",
       "      <td>NaN</td>\n",
       "      <td>15.6</td>\n",
       "      <td>No</td>\n",
       "      <td>477.28</td>\n",
       "    </tr>\n",
       "    <tr>\n",
       "      <th>3</th>\n",
       "      <td>Apple Macbook Air Apple M2/8 GB/256GB SSD/GPU ...</td>\n",
       "      <td>Refurbished</td>\n",
       "      <td>Apple</td>\n",
       "      <td>MacBook Air</td>\n",
       "      <td>Apple M2</td>\n",
       "      <td>8</td>\n",
       "      <td>256</td>\n",
       "      <td>SSD</td>\n",
       "      <td>NaN</td>\n",
       "      <td>13.6</td>\n",
       "      <td>No</td>\n",
       "      <td>1519.00</td>\n",
       "    </tr>\n",
       "    <tr>\n",
       "      <th>4</th>\n",
       "      <td>Asus M515UA-EJ374 AMD Ryzen 5 5500U/8GB/512GB ...</td>\n",
       "      <td>New</td>\n",
       "      <td>Asus</td>\n",
       "      <td>M515UA</td>\n",
       "      <td>AMD Ryzen 5</td>\n",
       "      <td>8</td>\n",
       "      <td>512</td>\n",
       "      <td>SSD</td>\n",
       "      <td>NaN</td>\n",
       "      <td>15.6</td>\n",
       "      <td>No</td>\n",
       "      <td>402.99</td>\n",
       "    </tr>\n",
       "  </tbody>\n",
       "</table>\n",
       "</div>"
      ],
      "text/plain": [
       "                                              laptop       status  brand  \\\n",
       "0  MSI Raider GE68HX 13VF-045XES Intel Core i9-13...          New    MSI   \n",
       "1  HP Pavilion 15-eg2004ns Intel Core i7-1255U/16...          New     HP   \n",
       "2  Acer Aspire 3 A315-56-52KD Intel Core i5-1035G...  Refurbished   Acer   \n",
       "3  Apple Macbook Air Apple M2/8 GB/256GB SSD/GPU ...  Refurbished  Apple   \n",
       "4  Asus M515UA-EJ374 AMD Ryzen 5 5500U/8GB/512GB ...          New   Asus   \n",
       "\n",
       "         model            cpu  ram  storage storage_type       gpu  screen  \\\n",
       "0       Raider  Intel Core i9   32     1000          SSD  RTX 4060    16.0   \n",
       "1     Pavilion  Intel Core i7   16      512          SSD       NaN    15.6   \n",
       "2       Aspire  Intel Core i5   12      512          SSD       NaN    15.6   \n",
       "3  MacBook Air       Apple M2    8      256          SSD       NaN    13.6   \n",
       "4       M515UA    AMD Ryzen 5    8      512          SSD       NaN    15.6   \n",
       "\n",
       "  touch  final_price  \n",
       "0    No      2599.00  \n",
       "1    No       999.00  \n",
       "2    No       477.28  \n",
       "3    No      1519.00  \n",
       "4    No       402.99  "
      ]
     },
     "execution_count": 1218,
     "metadata": {},
     "output_type": "execute_result"
    }
   ],
   "source": [
    "df_val.head()"
   ]
  },
  {
   "cell_type": "code",
   "execution_count": 1219,
   "id": "db29840c",
   "metadata": {},
   "outputs": [
    {
     "data": {
      "text/html": [
       "<div>\n",
       "<style scoped>\n",
       "    .dataframe tbody tr th:only-of-type {\n",
       "        vertical-align: middle;\n",
       "    }\n",
       "\n",
       "    .dataframe tbody tr th {\n",
       "        vertical-align: top;\n",
       "    }\n",
       "\n",
       "    .dataframe thead th {\n",
       "        text-align: right;\n",
       "    }\n",
       "</style>\n",
       "<table border=\"1\" class=\"dataframe\">\n",
       "  <thead>\n",
       "    <tr style=\"text-align: right;\">\n",
       "      <th></th>\n",
       "      <th>laptop</th>\n",
       "      <th>status</th>\n",
       "      <th>brand</th>\n",
       "      <th>model</th>\n",
       "      <th>cpu</th>\n",
       "      <th>ram</th>\n",
       "      <th>storage</th>\n",
       "      <th>storage_type</th>\n",
       "      <th>gpu</th>\n",
       "      <th>screen</th>\n",
       "      <th>touch</th>\n",
       "      <th>final_price</th>\n",
       "    </tr>\n",
       "  </thead>\n",
       "  <tbody>\n",
       "    <tr>\n",
       "      <th>0</th>\n",
       "      <td>HP ZBook Fury G8 Intel Core i9-11900H/32GB/1TB...</td>\n",
       "      <td>Refurbished</td>\n",
       "      <td>HP</td>\n",
       "      <td>Zbook</td>\n",
       "      <td>Intel Core i9</td>\n",
       "      <td>32</td>\n",
       "      <td>1000</td>\n",
       "      <td>SSD</td>\n",
       "      <td>NaN</td>\n",
       "      <td>15.6</td>\n",
       "      <td>No</td>\n",
       "      <td>4805.65</td>\n",
       "    </tr>\n",
       "    <tr>\n",
       "      <th>1</th>\n",
       "      <td>Microsoft Surface Pro 9 Grafito Intel Evo Core...</td>\n",
       "      <td>New</td>\n",
       "      <td>Microsoft</td>\n",
       "      <td>Surface Pro</td>\n",
       "      <td>Intel Evo Core i7</td>\n",
       "      <td>16</td>\n",
       "      <td>512</td>\n",
       "      <td>SSD</td>\n",
       "      <td>NaN</td>\n",
       "      <td>13.0</td>\n",
       "      <td>Yes</td>\n",
       "      <td>2189.00</td>\n",
       "    </tr>\n",
       "    <tr>\n",
       "      <th>2</th>\n",
       "      <td>MSI Katana GF66 12UE-1203XES Intel Core i5-124...</td>\n",
       "      <td>New</td>\n",
       "      <td>MSI</td>\n",
       "      <td>Katana</td>\n",
       "      <td>Intel Core i5</td>\n",
       "      <td>16</td>\n",
       "      <td>512</td>\n",
       "      <td>SSD</td>\n",
       "      <td>RTX 3060</td>\n",
       "      <td>15.6</td>\n",
       "      <td>No</td>\n",
       "      <td>1349.00</td>\n",
       "    </tr>\n",
       "    <tr>\n",
       "      <th>3</th>\n",
       "      <td>LG Gram UltraSlim 15Z90RT-G.AA75B Intel Evo Co...</td>\n",
       "      <td>New</td>\n",
       "      <td>LG</td>\n",
       "      <td>Gram</td>\n",
       "      <td>Intel Evo Core i7</td>\n",
       "      <td>16</td>\n",
       "      <td>512</td>\n",
       "      <td>SSD</td>\n",
       "      <td>NaN</td>\n",
       "      <td>15.0</td>\n",
       "      <td>No</td>\n",
       "      <td>2175.83</td>\n",
       "    </tr>\n",
       "    <tr>\n",
       "      <th>4</th>\n",
       "      <td>Asus Rog Strix G15 G513QY-HQ008 AMD Ryzen 9 59...</td>\n",
       "      <td>Refurbished</td>\n",
       "      <td>Asus</td>\n",
       "      <td>ROG</td>\n",
       "      <td>AMD Ryzen 9</td>\n",
       "      <td>16</td>\n",
       "      <td>1000</td>\n",
       "      <td>SSD</td>\n",
       "      <td>NaN</td>\n",
       "      <td>15.6</td>\n",
       "      <td>No</td>\n",
       "      <td>1248.59</td>\n",
       "    </tr>\n",
       "  </tbody>\n",
       "</table>\n",
       "</div>"
      ],
      "text/plain": [
       "                                              laptop       status      brand  \\\n",
       "0  HP ZBook Fury G8 Intel Core i9-11900H/32GB/1TB...  Refurbished         HP   \n",
       "1  Microsoft Surface Pro 9 Grafito Intel Evo Core...          New  Microsoft   \n",
       "2  MSI Katana GF66 12UE-1203XES Intel Core i5-124...          New        MSI   \n",
       "3  LG Gram UltraSlim 15Z90RT-G.AA75B Intel Evo Co...          New         LG   \n",
       "4  Asus Rog Strix G15 G513QY-HQ008 AMD Ryzen 9 59...  Refurbished       Asus   \n",
       "\n",
       "         model                cpu  ram  storage storage_type       gpu  \\\n",
       "0        Zbook      Intel Core i9   32     1000          SSD       NaN   \n",
       "1  Surface Pro  Intel Evo Core i7   16      512          SSD       NaN   \n",
       "2       Katana      Intel Core i5   16      512          SSD  RTX 3060   \n",
       "3         Gram  Intel Evo Core i7   16      512          SSD       NaN   \n",
       "4          ROG        AMD Ryzen 9   16     1000          SSD       NaN   \n",
       "\n",
       "   screen touch  final_price  \n",
       "0    15.6    No      4805.65  \n",
       "1    13.0   Yes      2189.00  \n",
       "2    15.6    No      1349.00  \n",
       "3    15.0    No      2175.83  \n",
       "4    15.6    No      1248.59  "
      ]
     },
     "execution_count": 1219,
     "metadata": {},
     "output_type": "execute_result"
    }
   ],
   "source": [
    "df_test.head()"
   ]
  },
  {
   "cell_type": "code",
   "execution_count": 1220,
   "id": "af54e208",
   "metadata": {},
   "outputs": [],
   "source": [
    "#get the target variable for each dataframe (get the numpy array of the car prices)\n",
    "y_train = np.log1p(df_train.final_price.values)\n",
    "y_val = np.log1p(df_val.final_price.values)\n",
    "y_test = np.log1p(df_test.final_price.values)"
   ]
  },
  {
   "cell_type": "code",
   "execution_count": 1221,
   "id": "e3bffca9",
   "metadata": {},
   "outputs": [],
   "source": [
    "#remove the price column (final_price) from our dataframes - so we don't accidentally use it for training\n",
    "del df_train['final_price']\n",
    "del df_val['final_price']\n",
    "del df_test['final_price']"
   ]
  },
  {
   "cell_type": "markdown",
   "id": "c9e3e760",
   "metadata": {},
   "source": [
    "#### Dealing with Missing Values"
   ]
  },
  {
   "cell_type": "code",
   "execution_count": 1222,
   "id": "461876f4",
   "metadata": {},
   "outputs": [],
   "source": [
    "sub = ['ram', 'storage', 'screen']"
   ]
  },
  {
   "cell_type": "markdown",
   "id": "d04f7add",
   "metadata": {},
   "source": [
    "##### Method 1"
   ]
  },
  {
   "cell_type": "code",
   "execution_count": 1223,
   "id": "15f005e2",
   "metadata": {},
   "outputs": [],
   "source": [
    "#fill empty values with zero\n",
    "def prepare_X_with_zero(df):\n",
    "    df = df.copy()\n",
    "    features = sub.copy()\n",
    "    \n",
    "    df_num = df[features]\n",
    "    df_num = df_num.fillna(0)\n",
    "    X = df_num.values\n",
    "\n",
    "    return X"
   ]
  },
  {
   "cell_type": "code",
   "execution_count": 1224,
   "id": "03de0ff7",
   "metadata": {},
   "outputs": [
    {
     "data": {
      "text/plain": [
       "array([[  32. , 1000. ,   15.6],\n",
       "       [   4. ,   64. ,   14.1],\n",
       "       [  32. , 1000. ,   14. ],\n",
       "       ...,\n",
       "       [  16. ,  512. ,   15.6],\n",
       "       [  16. ,  512. ,   14. ],\n",
       "       [  16. ,  512. ,   14. ]], shape=(1296, 3))"
      ]
     },
     "execution_count": 1224,
     "metadata": {},
     "output_type": "execute_result"
    }
   ],
   "source": [
    "X_train_zero = prepare_X_with_zero(df_train)\n",
    "X_train_zero"
   ]
  },
  {
   "cell_type": "markdown",
   "id": "1f37bd90",
   "metadata": {},
   "source": [
    "##### Method 2"
   ]
  },
  {
   "cell_type": "code",
   "execution_count": 1225,
   "id": "39cfc0fc",
   "metadata": {},
   "outputs": [],
   "source": [
    "#fill empty values with the mean\n",
    "def prepare_X_with_mean(df):\n",
    "    df = df.copy()\n",
    "    features = sub.copy()\n",
    "    \n",
    "    df_num = df[features]\n",
    "    df_num = df_num.fillna(df_num.mean())\n",
    "    X = df_num.values\n",
    "\n",
    "    return X"
   ]
  },
  {
   "cell_type": "code",
   "execution_count": 1226,
   "id": "7ed05491",
   "metadata": {},
   "outputs": [
    {
     "data": {
      "text/plain": [
       "array([[  32. , 1000. ,   15.6],\n",
       "       [   4. ,   64. ,   14.1],\n",
       "       [  32. , 1000. ,   14. ],\n",
       "       ...,\n",
       "       [  16. ,  512. ,   15.6],\n",
       "       [  16. ,  512. ,   14. ],\n",
       "       [  16. ,  512. ,   14. ]], shape=(1296, 3))"
      ]
     },
     "execution_count": 1226,
     "metadata": {},
     "output_type": "execute_result"
    }
   ],
   "source": [
    "X_train_mean = prepare_X_with_mean(df_train)\n",
    "X_train_mean"
   ]
  },
  {
   "cell_type": "markdown",
   "id": "b7f72f2d",
   "metadata": {},
   "source": [
    "#### Training Linear Regression Without Regularization"
   ]
  },
  {
   "cell_type": "code",
   "execution_count": 1227,
   "id": "8574467e",
   "metadata": {},
   "outputs": [],
   "source": [
    "#train_linear_regression function\n",
    "def train_linear_regression(X, y):\n",
    "    ones = np.ones(X.shape[0]) \n",
    "    X = np.column_stack([ones, X])\n",
    "\n",
    "    XTX = X.T.dot(X)\n",
    "    XTX_inv = np.linalg.inv(XTX)\n",
    "    \n",
    "    w_full = XTX_inv.dot(X.T).dot(y)\n",
    "\n",
    "    return w_full[0], w_full[1:]"
   ]
  },
  {
   "cell_type": "code",
   "execution_count": 1228,
   "id": "04c09fd4",
   "metadata": {},
   "outputs": [],
   "source": [
    "w0_zero, w_zero = train_linear_regression(X_train_zero, y_train)"
   ]
  },
  {
   "cell_type": "code",
   "execution_count": 1229,
   "id": "bbd76ba0",
   "metadata": {},
   "outputs": [],
   "source": [
    "w0_mean, w_mean = train_linear_regression(X_train_zero, y_train)"
   ]
  },
  {
   "cell_type": "markdown",
   "id": "f3c4b08e",
   "metadata": {},
   "source": [
    "#### Validating The Model (including Root Mean Squared Value)"
   ]
  },
  {
   "cell_type": "code",
   "execution_count": 1230,
   "id": "e709fe2b",
   "metadata": {},
   "outputs": [],
   "source": [
    "#rsme function\n",
    "def rsme(y, y_pred):\n",
    "    error = y - y_pred\n",
    "    se = error ** 2\n",
    "    mse = se.mean()\n",
    "    rsme = np.sqrt(mse)\n",
    "\n",
    "    return rsme"
   ]
  },
  {
   "cell_type": "code",
   "execution_count": 1231,
   "id": "1fae4862",
   "metadata": {},
   "outputs": [
    {
     "data": {
      "text/plain": [
       "np.float64(0.43)"
      ]
     },
     "execution_count": 1231,
     "metadata": {},
     "output_type": "execute_result"
    }
   ],
   "source": [
    "#rsme value for the weights created by filling empty values with zero\n",
    "X_val = prepare_X_with_zero(df_val)\n",
    "y_pred = w0_zero + X_val.dot(w_zero)\n",
    "round(rsme(y_val, y_pred), 2)"
   ]
  },
  {
   "cell_type": "code",
   "execution_count": 1232,
   "id": "66d3c1c4",
   "metadata": {},
   "outputs": [
    {
     "data": {
      "text/plain": [
       "np.float64(0.43)"
      ]
     },
     "execution_count": 1232,
     "metadata": {},
     "output_type": "execute_result"
    }
   ],
   "source": [
    "#rsme value for the weights created by filling empty values with the mean\n",
    "X_val = prepare_X_with_zero(df_val)\n",
    "y_pred = w0_mean + X_val.dot(w_mean)\n",
    "round(rsme(y_val, y_pred), 2)"
   ]
  },
  {
   "cell_type": "markdown",
   "id": "a6c0bf23",
   "metadata": {},
   "source": [
    "###### From the rsme results, you can see that both sets of models are equally okay"
   ]
  },
  {
   "cell_type": "markdown",
   "id": "8d7a834e",
   "metadata": {},
   "source": [
    "#### Training Linear Regression with Regularization"
   ]
  },
  {
   "cell_type": "code",
   "execution_count": 1233,
   "id": "54c3502c",
   "metadata": {},
   "outputs": [],
   "source": [
    "#regularized linear regression function\n",
    "def train_linear_regression_reg(X, y, r):\n",
    "    ones = np.ones(X.shape[0]) \n",
    "    X = np.column_stack([ones, X])\n",
    "\n",
    "    XTX = X.T.dot(X)\n",
    "    XTX = XTX + r * np.eye(XTX.shape[0])\n",
    "\n",
    "    XTX_inv = np.linalg.inv(XTX)\n",
    "    w_full = XTX_inv.dot(X.T).dot(y)\n",
    "\n",
    "    return w_full[0], w_full[1:]"
   ]
  },
  {
   "cell_type": "code",
   "execution_count": 1234,
   "id": "c013b974",
   "metadata": {},
   "outputs": [
    {
     "data": {
      "text/plain": [
       "np.float64(0.43)"
      ]
     },
     "execution_count": 1234,
     "metadata": {},
     "output_type": "execute_result"
    }
   ],
   "source": [
    "#evaluating model with r = 0\n",
    "X_train = prepare_X_with_zero(df_train)\n",
    "w0, w = train_linear_regression_reg(X_train, y_train, r=0)\n",
    "\n",
    "X_val = prepare_X_with_zero(df_val)\n",
    "y_pred = w0 + X_val.dot(w)\n",
    "\n",
    "round(rsme(y_val, y_pred), 2)"
   ]
  },
  {
   "cell_type": "code",
   "execution_count": 1235,
   "id": "cbdc4b4b",
   "metadata": {},
   "outputs": [
    {
     "data": {
      "text/plain": [
       "np.float64(0.43)"
      ]
     },
     "execution_count": 1235,
     "metadata": {},
     "output_type": "execute_result"
    }
   ],
   "source": [
    "#evaluating model with r = 0.01\n",
    "X_train = prepare_X_with_zero(df_train)\n",
    "w0, w = train_linear_regression_reg(X_train, y_train, r=0.01)\n",
    "\n",
    "X_val = prepare_X_with_zero(df_val)\n",
    "y_pred = w0 + X_val.dot(w)\n",
    "\n",
    "round(rsme(y_val, y_pred), 2)"
   ]
  },
  {
   "cell_type": "code",
   "execution_count": 1236,
   "id": "a0dd80e3",
   "metadata": {},
   "outputs": [
    {
     "data": {
      "text/plain": [
       "np.float64(0.43)"
      ]
     },
     "execution_count": 1236,
     "metadata": {},
     "output_type": "execute_result"
    }
   ],
   "source": [
    "#evaluating model with r = 0.1\n",
    "X_train = prepare_X_with_zero(df_train)\n",
    "w0, w = train_linear_regression_reg(X_train, y_train, r=0.1)\n",
    "\n",
    "X_val = prepare_X_with_zero(df_val)\n",
    "y_pred = w0 + X_val.dot(w)\n",
    "\n",
    "round(rsme(y_val, y_pred), 2)"
   ]
  },
  {
   "cell_type": "code",
   "execution_count": 1237,
   "id": "57842e3c",
   "metadata": {},
   "outputs": [
    {
     "data": {
      "text/plain": [
       "np.float64(0.43)"
      ]
     },
     "execution_count": 1237,
     "metadata": {},
     "output_type": "execute_result"
    }
   ],
   "source": [
    "#evaluating model with r = 1\n",
    "X_train = prepare_X_with_zero(df_train)\n",
    "w0, w = train_linear_regression_reg(X_train, y_train, r=1)\n",
    "\n",
    "X_val = prepare_X_with_zero(df_val)\n",
    "y_pred = w0 + X_val.dot(w)\n",
    "\n",
    "round(rsme(y_val, y_pred), 2)"
   ]
  },
  {
   "cell_type": "code",
   "execution_count": 1238,
   "id": "b1b27b68",
   "metadata": {},
   "outputs": [
    {
     "data": {
      "text/plain": [
       "np.float64(0.46)"
      ]
     },
     "execution_count": 1238,
     "metadata": {},
     "output_type": "execute_result"
    }
   ],
   "source": [
    "#evaluating model with r = 5\n",
    "X_train = prepare_X_with_zero(df_train)\n",
    "w0, w = train_linear_regression_reg(X_train, y_train, r=5)\n",
    "\n",
    "X_val = prepare_X_with_zero(df_val)\n",
    "y_pred = w0 + X_val.dot(w)\n",
    "\n",
    "round(rsme(y_val, y_pred), 2)"
   ]
  },
  {
   "cell_type": "code",
   "execution_count": 1239,
   "id": "6e8993b0",
   "metadata": {},
   "outputs": [
    {
     "data": {
      "text/plain": [
       "np.float64(0.51)"
      ]
     },
     "execution_count": 1239,
     "metadata": {},
     "output_type": "execute_result"
    }
   ],
   "source": [
    "#evaluating model with r = 10\n",
    "X_train = prepare_X_with_zero(df_train)\n",
    "w0, w = train_linear_regression_reg(X_train, y_train, r=10)\n",
    "\n",
    "X_val = prepare_X_with_zero(df_val)\n",
    "y_pred = w0 + X_val.dot(w)\n",
    "\n",
    "round(rsme(y_val, y_pred), 2)"
   ]
  },
  {
   "cell_type": "code",
   "execution_count": 1240,
   "id": "f35db5a4",
   "metadata": {},
   "outputs": [
    {
     "data": {
      "text/plain": [
       "np.float64(0.67)"
      ]
     },
     "execution_count": 1240,
     "metadata": {},
     "output_type": "execute_result"
    }
   ],
   "source": [
    "#evaluating model with r = 100\n",
    "X_train = prepare_X_with_zero(df_train)\n",
    "w0, w = train_linear_regression_reg(X_train, y_train, r=100)\n",
    "\n",
    "X_val = prepare_X_with_zero(df_val)\n",
    "y_pred = w0 + X_val.dot(w)\n",
    "\n",
    "round(rsme(y_val, y_pred), 2)"
   ]
  },
  {
   "cell_type": "markdown",
   "id": "7b14a59f",
   "metadata": {},
   "source": [
    "#### Training Linear Regression - Using Different Seeds for Splitting Data"
   ]
  },
  {
   "cell_type": "code",
   "execution_count": 1241,
   "id": "9423dd2d",
   "metadata": {},
   "outputs": [],
   "source": [
    "#for loop that trains and validates the dataset with different seeds (0 - 9)\n",
    "seed_values = [0, 1, 2, 3, 4, 5, 6, 7, 8, 9]\n",
    "rsme_seed_result = []\n",
    "\n",
    "for seed in seed_values:\n",
    "    np.random.seed(seed)\n",
    "    np.random.shuffle(idx)\n",
    "\n",
    "    df_train_seed = df.iloc[idx[:n_train]]\n",
    "    df_val_seed = df.iloc[idx[n_train:n_train+n_val]]\n",
    "    df_test_seed = df.iloc[idx[n_train+n_val:]]\n",
    "\n",
    "    df_train_seed = df_train_seed.reset_index(drop=True)\n",
    "    df_val_seed = df_val_seed.reset_index(drop=True)\n",
    "    df_test_seed = df_test_seed.reset_index(drop=True)\n",
    "\n",
    "    y_train_seed = np.log1p(df_train_seed.final_price.values)\n",
    "    y_val_seed = np.log1p(df_val_seed.final_price.values)\n",
    "    y_test_seed = np.log1p(df_test_seed.final_price.values)\n",
    "\n",
    "    del df_train_seed['final_price']\n",
    "    del df_val_seed['final_price']\n",
    "    del df_test_seed['final_price']\n",
    "\n",
    "    X_train = prepare_X_with_zero(df_train_seed)\n",
    "    w0, w = train_linear_regression(X_train, y_train_seed)\n",
    "\n",
    "    X_val = prepare_X_with_zero(df_val_seed)\n",
    "    y_pred = w0 + X_val.dot(w)\n",
    "    \n",
    "    rsme_seed_result.append(rsme(y_val_seed, y_pred))\n"
   ]
  },
  {
   "cell_type": "code",
   "execution_count": 1242,
   "id": "b181cf01",
   "metadata": {},
   "outputs": [
    {
     "name": "stdout",
     "output_type": "stream",
     "text": [
      "Seed 0: RMSE = 0.45368899519729566\n",
      "Seed 1: RMSE = 0.4266127011048509\n",
      "Seed 2: RMSE = 0.44856296159535647\n",
      "Seed 3: RMSE = 0.423713821964277\n",
      "Seed 4: RMSE = 0.4485754254536299\n",
      "Seed 5: RMSE = 0.4577521649053751\n",
      "Seed 6: RMSE = 0.44573311126717113\n",
      "Seed 7: RMSE = 0.438520277581363\n",
      "Seed 8: RMSE = 0.45316672579382783\n",
      "Seed 9: RMSE = 0.4462850845129127\n"
     ]
    }
   ],
   "source": [
    "#rsme values for the different seeds\n",
    "for i, rsme_value in enumerate(rsme_seed_result):\n",
    "    print(f\"Seed {i}: RMSE = {rsme_value}\")\n"
   ]
  },
  {
   "cell_type": "code",
   "execution_count": 1243,
   "id": "754de047",
   "metadata": {},
   "outputs": [
    {
     "data": {
      "text/plain": [
       "np.float64(0.011)"
      ]
     },
     "execution_count": 1243,
     "metadata": {},
     "output_type": "execute_result"
    }
   ],
   "source": [
    "#standard devation of the rsme values\n",
    "rsme_seed_result = np.array(rsme_seed_result)\n",
    "round(rsme_seed_result.std(), 3)"
   ]
  },
  {
   "cell_type": "markdown",
   "id": "ee491f34",
   "metadata": {},
   "source": [
    "###### A low standard deviation means the model is stable"
   ]
  },
  {
   "cell_type": "markdown",
   "id": "9537441e",
   "metadata": {},
   "source": [
    "##### Combining the Training & Validation dataset to Train the Test dataset (Using Seed = 9)"
   ]
  },
  {
   "cell_type": "code",
   "execution_count": 1244,
   "id": "4ead2072",
   "metadata": {},
   "outputs": [],
   "source": [
    "#random seed of 9\n",
    "np.random.seed(9)\n",
    "np.random.shuffle(idx)\n",
    "\n",
    "#replace the sequential rows in the new dataframes with the shuffled rows\n",
    "df_train_seed9 = df.iloc[idx[:n_train]]\n",
    "\n",
    "df_val_seed9 = df.iloc[idx[n_train:n_train+n_val]]\n",
    "\n",
    "df_test_seed9 = df.iloc[idx[n_train+n_val:]]"
   ]
  },
  {
   "cell_type": "code",
   "execution_count": 1245,
   "id": "6ec8f098",
   "metadata": {},
   "outputs": [],
   "source": [
    "#assign the target variables\n",
    "y_train = np.log1p(df_train_seed9.final_price.values)\n",
    "y_val = np.log1p(df_val_seed9.final_price.values)\n",
    "y_test = np.log1p(df_test_seed9.final_price.values)"
   ]
  },
  {
   "cell_type": "code",
   "execution_count": 1246,
   "id": "7237b3e9",
   "metadata": {},
   "outputs": [],
   "source": [
    "#remove the final_price column so it is not accidentally trained as well\n",
    "del df_train_seed9['final_price']\n",
    "del df_val_seed9['final_price']\n",
    "del df_test_seed9['final_price']"
   ]
  },
  {
   "cell_type": "code",
   "execution_count": 1247,
   "id": "341a5e99",
   "metadata": {},
   "outputs": [],
   "source": [
    "#combining the training & validation df\n",
    "df_full_train = pd.concat([df_train_seed9, df_val_seed9])"
   ]
  },
  {
   "cell_type": "code",
   "execution_count": 1248,
   "id": "9ad02b68",
   "metadata": {},
   "outputs": [
    {
     "data": {
      "text/html": [
       "<div>\n",
       "<style scoped>\n",
       "    .dataframe tbody tr th:only-of-type {\n",
       "        vertical-align: middle;\n",
       "    }\n",
       "\n",
       "    .dataframe tbody tr th {\n",
       "        vertical-align: top;\n",
       "    }\n",
       "\n",
       "    .dataframe thead th {\n",
       "        text-align: right;\n",
       "    }\n",
       "</style>\n",
       "<table border=\"1\" class=\"dataframe\">\n",
       "  <thead>\n",
       "    <tr style=\"text-align: right;\">\n",
       "      <th></th>\n",
       "      <th>laptop</th>\n",
       "      <th>status</th>\n",
       "      <th>brand</th>\n",
       "      <th>model</th>\n",
       "      <th>cpu</th>\n",
       "      <th>ram</th>\n",
       "      <th>storage</th>\n",
       "      <th>storage_type</th>\n",
       "      <th>gpu</th>\n",
       "      <th>screen</th>\n",
       "      <th>touch</th>\n",
       "    </tr>\n",
       "  </thead>\n",
       "  <tbody>\n",
       "    <tr>\n",
       "      <th>0</th>\n",
       "      <td>HP 15S-FQ5042NS Intel Core i7-1255U/8GB/512GB ...</td>\n",
       "      <td>New</td>\n",
       "      <td>HP</td>\n",
       "      <td>15S</td>\n",
       "      <td>Intel Core i7</td>\n",
       "      <td>8</td>\n",
       "      <td>512</td>\n",
       "      <td>SSD</td>\n",
       "      <td>NaN</td>\n",
       "      <td>15.6</td>\n",
       "      <td>No</td>\n",
       "    </tr>\n",
       "    <tr>\n",
       "      <th>1</th>\n",
       "      <td>Apple MacBook Intel Core M3/8GB/256GB/12\" Oro</td>\n",
       "      <td>Refurbished</td>\n",
       "      <td>Apple</td>\n",
       "      <td>Macbook</td>\n",
       "      <td>Intel Core M3</td>\n",
       "      <td>8</td>\n",
       "      <td>256</td>\n",
       "      <td>NaN</td>\n",
       "      <td>NaN</td>\n",
       "      <td>12.0</td>\n",
       "      <td>No</td>\n",
       "    </tr>\n",
       "    <tr>\n",
       "      <th>2</th>\n",
       "      <td>HP 15S-FQ4037NS Intel Core i7-1195G7/16GB/512G...</td>\n",
       "      <td>New</td>\n",
       "      <td>HP</td>\n",
       "      <td>15S</td>\n",
       "      <td>Intel Core i7</td>\n",
       "      <td>16</td>\n",
       "      <td>512</td>\n",
       "      <td>SSD</td>\n",
       "      <td>NaN</td>\n",
       "      <td>15.6</td>\n",
       "      <td>No</td>\n",
       "    </tr>\n",
       "    <tr>\n",
       "      <th>3</th>\n",
       "      <td>Lenovo ThinkBook 16p G2 ACH AMD Ryzen 7 5800H/...</td>\n",
       "      <td>New</td>\n",
       "      <td>Lenovo</td>\n",
       "      <td>ThinkBook</td>\n",
       "      <td>AMD Ryzen 7</td>\n",
       "      <td>16</td>\n",
       "      <td>512</td>\n",
       "      <td>SSD</td>\n",
       "      <td>RTX 3060</td>\n",
       "      <td>16.0</td>\n",
       "      <td>No</td>\n",
       "    </tr>\n",
       "    <tr>\n",
       "      <th>4</th>\n",
       "      <td>Acer Aspire 3 A315-58-32EE Intel Core i3-1115G...</td>\n",
       "      <td>New</td>\n",
       "      <td>Acer</td>\n",
       "      <td>Aspire</td>\n",
       "      <td>Intel Core i3</td>\n",
       "      <td>8</td>\n",
       "      <td>512</td>\n",
       "      <td>SSD</td>\n",
       "      <td>NaN</td>\n",
       "      <td>15.6</td>\n",
       "      <td>No</td>\n",
       "    </tr>\n",
       "    <tr>\n",
       "      <th>...</th>\n",
       "      <td>...</td>\n",
       "      <td>...</td>\n",
       "      <td>...</td>\n",
       "      <td>...</td>\n",
       "      <td>...</td>\n",
       "      <td>...</td>\n",
       "      <td>...</td>\n",
       "      <td>...</td>\n",
       "      <td>...</td>\n",
       "      <td>...</td>\n",
       "      <td>...</td>\n",
       "    </tr>\n",
       "    <tr>\n",
       "      <th>1723</th>\n",
       "      <td>Lenovo ThinkBook 14 G4 ABA AMD Ryzen 7 5825U/1...</td>\n",
       "      <td>New</td>\n",
       "      <td>Lenovo</td>\n",
       "      <td>ThinkBook</td>\n",
       "      <td>AMD Ryzen 7</td>\n",
       "      <td>16</td>\n",
       "      <td>512</td>\n",
       "      <td>SSD</td>\n",
       "      <td>NaN</td>\n",
       "      <td>14.0</td>\n",
       "      <td>No</td>\n",
       "    </tr>\n",
       "    <tr>\n",
       "      <th>1724</th>\n",
       "      <td>Razer Blade 15 Advanced Model FullHD 360Hz Int...</td>\n",
       "      <td>Refurbished</td>\n",
       "      <td>Razer</td>\n",
       "      <td>Blade</td>\n",
       "      <td>Intel Core i7</td>\n",
       "      <td>16</td>\n",
       "      <td>1000</td>\n",
       "      <td>SSD</td>\n",
       "      <td>RTX 3070</td>\n",
       "      <td>15.6</td>\n",
       "      <td>No</td>\n",
       "    </tr>\n",
       "    <tr>\n",
       "      <th>1725</th>\n",
       "      <td>Gigabyte AORUS 15P XD Intel Core i7-11800H/16G...</td>\n",
       "      <td>Refurbished</td>\n",
       "      <td>Gigabyte</td>\n",
       "      <td>Aorus</td>\n",
       "      <td>Intel Core i7</td>\n",
       "      <td>16</td>\n",
       "      <td>1000</td>\n",
       "      <td>SSD</td>\n",
       "      <td>RTX 3070</td>\n",
       "      <td>15.6</td>\n",
       "      <td>No</td>\n",
       "    </tr>\n",
       "    <tr>\n",
       "      <th>1726</th>\n",
       "      <td>Dell Latitude 9510 Intel Core i5-10210U/8GB/25...</td>\n",
       "      <td>New</td>\n",
       "      <td>Dell</td>\n",
       "      <td>Latitude</td>\n",
       "      <td>Intel Core i5</td>\n",
       "      <td>8</td>\n",
       "      <td>256</td>\n",
       "      <td>SSD</td>\n",
       "      <td>NaN</td>\n",
       "      <td>15.0</td>\n",
       "      <td>No</td>\n",
       "    </tr>\n",
       "    <tr>\n",
       "      <th>1727</th>\n",
       "      <td>Dell Latitude E5470 Intel Core i5-6300U/8GB/24...</td>\n",
       "      <td>Refurbished</td>\n",
       "      <td>Dell</td>\n",
       "      <td>Latitude</td>\n",
       "      <td>Intel Core i5</td>\n",
       "      <td>8</td>\n",
       "      <td>240</td>\n",
       "      <td>SSD</td>\n",
       "      <td>NaN</td>\n",
       "      <td>14.0</td>\n",
       "      <td>No</td>\n",
       "    </tr>\n",
       "  </tbody>\n",
       "</table>\n",
       "<p>1728 rows × 11 columns</p>\n",
       "</div>"
      ],
      "text/plain": [
       "                                                 laptop       status  \\\n",
       "0     HP 15S-FQ5042NS Intel Core i7-1255U/8GB/512GB ...          New   \n",
       "1         Apple MacBook Intel Core M3/8GB/256GB/12\" Oro  Refurbished   \n",
       "2     HP 15S-FQ4037NS Intel Core i7-1195G7/16GB/512G...          New   \n",
       "3     Lenovo ThinkBook 16p G2 ACH AMD Ryzen 7 5800H/...          New   \n",
       "4     Acer Aspire 3 A315-58-32EE Intel Core i3-1115G...          New   \n",
       "...                                                 ...          ...   \n",
       "1723  Lenovo ThinkBook 14 G4 ABA AMD Ryzen 7 5825U/1...          New   \n",
       "1724  Razer Blade 15 Advanced Model FullHD 360Hz Int...  Refurbished   \n",
       "1725  Gigabyte AORUS 15P XD Intel Core i7-11800H/16G...  Refurbished   \n",
       "1726  Dell Latitude 9510 Intel Core i5-10210U/8GB/25...          New   \n",
       "1727  Dell Latitude E5470 Intel Core i5-6300U/8GB/24...  Refurbished   \n",
       "\n",
       "         brand      model            cpu  ram  storage storage_type       gpu  \\\n",
       "0           HP        15S  Intel Core i7    8      512          SSD       NaN   \n",
       "1        Apple    Macbook  Intel Core M3    8      256          NaN       NaN   \n",
       "2           HP        15S  Intel Core i7   16      512          SSD       NaN   \n",
       "3       Lenovo  ThinkBook    AMD Ryzen 7   16      512          SSD  RTX 3060   \n",
       "4         Acer     Aspire  Intel Core i3    8      512          SSD       NaN   \n",
       "...        ...        ...            ...  ...      ...          ...       ...   \n",
       "1723    Lenovo  ThinkBook    AMD Ryzen 7   16      512          SSD       NaN   \n",
       "1724     Razer      Blade  Intel Core i7   16     1000          SSD  RTX 3070   \n",
       "1725  Gigabyte      Aorus  Intel Core i7   16     1000          SSD  RTX 3070   \n",
       "1726      Dell   Latitude  Intel Core i5    8      256          SSD       NaN   \n",
       "1727      Dell   Latitude  Intel Core i5    8      240          SSD       NaN   \n",
       "\n",
       "      screen touch  \n",
       "0       15.6    No  \n",
       "1       12.0    No  \n",
       "2       15.6    No  \n",
       "3       16.0    No  \n",
       "4       15.6    No  \n",
       "...      ...   ...  \n",
       "1723    14.0    No  \n",
       "1724    15.6    No  \n",
       "1725    15.6    No  \n",
       "1726    15.0    No  \n",
       "1727    14.0    No  \n",
       "\n",
       "[1728 rows x 11 columns]"
      ]
     },
     "execution_count": 1248,
     "metadata": {},
     "output_type": "execute_result"
    }
   ],
   "source": [
    "#reset the index of the dataframe\n",
    "df_full_train = df_full_train.reset_index(drop=True)\n",
    "df_full_train"
   ]
  },
  {
   "cell_type": "code",
   "execution_count": 1249,
   "id": "4808d3cd",
   "metadata": {},
   "outputs": [
    {
     "data": {
      "text/plain": [
       "array([[   8. ,  512. ,   15.6],\n",
       "       [   8. ,  256. ,   12. ],\n",
       "       [  16. ,  512. ,   15.6],\n",
       "       ...,\n",
       "       [  16. , 1000. ,   15.6],\n",
       "       [   8. ,  256. ,   15. ],\n",
       "       [   8. ,  240. ,   14. ]], shape=(1728, 3))"
      ]
     },
     "execution_count": 1249,
     "metadata": {},
     "output_type": "execute_result"
    }
   ],
   "source": [
    "#combining training and validation feature matrix\n",
    "X_full_train = prepare_X_with_zero(df_full_train)\n",
    "X_full_train"
   ]
  },
  {
   "cell_type": "code",
   "execution_count": 1250,
   "id": "d1b9a964",
   "metadata": {},
   "outputs": [
    {
     "data": {
      "text/plain": [
       "array([6.80461452, 6.31821107, 6.54606779, ..., 7.43838353, 7.37775891,\n",
       "       6.2146081 ], shape=(1728,))"
      ]
     },
     "execution_count": 1250,
     "metadata": {},
     "output_type": "execute_result"
    }
   ],
   "source": [
    "#combining training and validation target variables\n",
    "y_full_train = np.concatenate([y_train, y_val])\n",
    "y_full_train"
   ]
  },
  {
   "cell_type": "code",
   "execution_count": 1251,
   "id": "0a2e3797",
   "metadata": {},
   "outputs": [],
   "source": [
    "#regularized linear regression on combined df\n",
    "w0, w = train_linear_regression_reg(X_full_train, y_full_train, r=0.001)"
   ]
  },
  {
   "cell_type": "code",
   "execution_count": 1252,
   "id": "3e5cfc26",
   "metadata": {},
   "outputs": [
    {
     "data": {
      "text/plain": [
       "np.float64(0.4330780939340882)"
      ]
     },
     "execution_count": 1252,
     "metadata": {},
     "output_type": "execute_result"
    }
   ],
   "source": [
    "#rsme score of testing df\n",
    "X_test = prepare_X_with_zero(df_test_seed9)\n",
    "y_pred = w0 + X_test.dot(w)\n",
    "rsme_test = rsme(y_test, y_pred)\n",
    "rsme_test"
   ]
  }
 ],
 "metadata": {
  "kernelspec": {
   "display_name": "Python 3",
   "language": "python",
   "name": "python3"
  },
  "language_info": {
   "codemirror_mode": {
    "name": "ipython",
    "version": 3
   },
   "file_extension": ".py",
   "mimetype": "text/x-python",
   "name": "python",
   "nbconvert_exporter": "python",
   "pygments_lexer": "ipython3",
   "version": "3.13.1"
  }
 },
 "nbformat": 4,
 "nbformat_minor": 5
}
